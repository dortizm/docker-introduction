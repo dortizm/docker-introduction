{
 "cells": [
  {
   "cell_type": "code",
   "execution_count": 1,
   "metadata": {
    "id": "an65b2kNk_14"
   },
   "outputs": [],
   "source": [
    "#<img src=\"http://lssds.aura-astronomy.org/winter_school/sites/default/files/sods_atfdds_header01.jpg\" alt=\"La Serena School for Data Science: Applied Tools for Data-driven Sciences\" />\n"
   ]
  },
  {
   "cell_type": "markdown",
   "metadata": {
    "id": "ozovyqMLk_16"
   },
   "source": [
    "![source: https://bernhardwenzel.com/2022/the-mental-model-of-docker-container-shipping/](images/hfa.png)\n"
   ]
  },
  {
   "cell_type": "markdown",
   "metadata": {
    "id": "aUTdDU8Sk_18"
   },
   "source": [
    "# 1. Introducción a Docker\n",
    "\n",
    "Docker es una plataforma y herramienta poderosa que te permite desarrollar, enviar y ejecutar aplicaciones dentro de contenedores aislados y livianos. Los contenedores son una forma de virtualización que empaqueta aplicaciones y sus dependencias juntas, asegurando consistencia en diferentes entornos. Esta introducción teórica te ayudará a comprender los conceptos fundamentales de Docker."
   ]
  },
  {
   "cell_type": "markdown",
   "metadata": {
    "id": "FNG1YpyYk_19"
   },
   "source": [
    "<img src=\"https://www.docker.com/wp-content/uploads/2022/03/horizontal-logo-monochromatic-white.png\" alt=\"La Serena School for Data Science: Applied Tools for Data-driven Sciences\" />"
   ]
  },
  {
   "cell_type": "markdown",
   "metadata": {
    "id": "Y4AnmYPAk_19"
   },
   "source": [
    "## 1.1  El Modelo Mental del Envío de Contenedores Docker\n",
    "___\n",
    "\n",
    "La analogía del \"Modelo Mental del Envío de Contenedores Docker\" es una forma de explicar el concepto de contenedores Docker utilizando una comparación del mundo real con contenedores de envío. Así como los contenedores de envío estandarizados revolucionaron el transporte de mercancías en todo el mundo, los contenedores Docker revolucionan la forma en que las aplicaciones se empaquetan, envían e implementan en diferentes entornos informáticos."
   ]
  },
  {
   "cell_type": "markdown",
   "metadata": {
    "id": "eayCYaCNk_19"
   },
   "source": [
    "![source: https://bernhardwenzel.com/2022/the-mental-model-of-docker-container-shipping/](images/container-shipping-docker.jpeg)\\n\n",
    "\n",
    "\n",
    "\n",
    "Aquí está cómo funciona la analogía:\n",
    "\n",
    "**Estandarización**: Al igual que los contenedores de envío vienen en tamaños estandarizados que se ajustan a varios tipos de barcos, camiones y trenes, los contenedores Docker utilizan un formato estandarizado que puede ejecutarse en cualquier sistema que admita Docker. Esto asegura consistencia y portabilidad en diferentes entornos.\n",
    "\n",
    "**Aislamiento**: Los contenedores de envío aíslan las mercancías de factores externos como el clima, plagas y robos. De manera similar, los contenedores Docker aíslan las aplicaciones y sus dependencias del sistema host y otros contenedores, previniendo conflictos y garantizando un comportamiento consistente.\n",
    "\n",
    "**Empaquetado**: Los contenedores de envío permiten que varios tipos de mercancías se empaqueten y envíen juntos. Los contenedores Docker empaquetan una aplicación junto con su tiempo de ejecución, bibliotecas y dependencias, creando una unidad autosuficiente que puede enviarse como una entidad única.\n",
    "\n",
    "**Facilidad de Manejo**: Los contenedores de envío están diseñados para una carga, descarga y transporte fáciles. Los contenedores Docker son fáciles de crear, mover e implementar en diferentes entornos, lo que hace que el proceso de desarrollo y despliegue sea más eficiente.\n",
    "\n",
    "**Eficiencia**: Los contenedores de envío optimizan el espacio, permitiendo que las mercancías se apilen y transporten de manera eficiente. Los contenedores Docker comparten el núcleo del sistema operativo del sistema host, lo que optimiza la utilización de recursos y permite que varios contenedores se ejecuten en el mismo host.\n",
    "\n",
    "**Modularidad**: Los contenedores de envío permiten que las mercancías se compartimenten y se carguen de manera independiente. Los contenedores Docker promueven un enfoque modular para el desarrollo de aplicaciones, donde cada componente o servicio puede encapsularse en su propio contenedor.\n",
    "\n",
    "**Intercambiabilidad**: Los contenedores de envío se pueden transferir fácilmente entre diferentes modos de transporte (barcos, camiones, trenes). Los contenedores Docker se pueden mover entre diferentes entornos (desarrollo, pruebas, producción) e incluso entre proveedores de la nube con cambios mínimos.\n",
    "\n",
    "**Consistencia**: Los contenedores de envío aseguran que las mercancías estén protegidas y se manejen de manera consistente durante todo su recorrido. Los contenedores Docker aseguran que las aplicaciones se ejecuten de manera consistente en diferentes etapas del ciclo de vida de desarrollo.\n",
    "\n",
    "**Implementación Sencilla**: Los contenedores de envío se pueden cargar en varios vehículos sin necesidad de volver a empaquetar las mercancías. Los contenedores Docker se pueden implementar en diferentes sistemas sin necesidad de modificar la aplicación, garantizando un comportamiento consistente.\n",
    "\n",
    "**Flexibilidad**: Al igual que los contenedores de envío pueden contener una amplia variedad de mercancías, los contenedores Docker pueden empaquetar aplicaciones de diferentes tipos y tecnologías. Esto los hace adecuados para una variedad diversa de aplicaciones.\n",
    "\n",
    "La analogía ayuda a las personas a comprender los conceptos fundamentales de los contenedores Docker al compararlos con un concepto familiar y tangible: los contenedores de envío. Simplifica las complejidades de la contenerización, el aislamiento y la portabilidad, lo que facilita que las personas comprendan los beneficios y casos de uso de los contenedores Docker en el desarrollo y despliegue de software moderno.\n",
    "\n",
    "ref:https://bernhardwenzel.com/2022/the-mental-model-of-docker-container-shipping/"
   ]
  },
  {
   "cell_type": "markdown",
   "metadata": {
    "id": "ajuXHXhbk_1-"
   },
   "source": [
    "## 1.2 ¿Cuál es la motivación para usar Docker?\n",
    "___"
   ]
  },
  {
   "cell_type": "markdown",
   "metadata": {
    "id": "Bfzp3DMOk_1-"
   },
   "source": [
    "La motivación para usar Docker surge de varios beneficios clave y desafíos enfrentados en el desarrollo y despliegue de software. Docker aborda estos desafíos y proporciona una manera más eficiente, consistente y simplificada de gestionar aplicaciones y sus dependencias. Aquí están algunas de las principales motivaciones para usar Docker:\n",
    "\n",
    "**Consistencia en Diferentes Entornos**: Docker asegura que las aplicaciones se ejecuten de manera consistente en diferentes entornos, como desarrollo, pruebas y producción. Esto elimina el problema de \"funciona en mi máquina\" y minimiza las discrepancias entre los entornos de desarrollo e implementación.\n",
    "\n",
    "**Aislamiento y Gestión de Dependencias**: Los contenedores aíslan las aplicaciones y sus dependencias del sistema host y entre sí. Esto previene conflictos entre diferentes aplicaciones y permite la gestión eficiente de dependencias sin interferir con otras partes del sistema.\n",
    "\n",
    "**Portabilidad**: Los contenedores Docker pueden ejecutarse en cualquier sistema que admita Docker, independientemente de la infraestructura subyacente. Esta portabilidad facilita mover aplicaciones entre entornos de desarrollo, pruebas y producción, así como entre entornos locales y en la nube.\n",
    "\n",
    "**Eficiencia y Utilización de Recursos**: Los contenedores comparten el núcleo del sistema operativo del sistema host, lo que los hace livianos y rápidos para iniciar y detener. Esta eficiente utilización de recursos permite que más contenedores se ejecuten en el mismo host en comparación con las máquinas virtuales tradicionales.\n",
    "\n",
    "**Despliegue Rápido**: Docker permite el despliegue rápido de aplicaciones, ya que los contenedores pueden crearse, iniciarse y detenerse rápidamente. Esto es especialmente valioso para las tuberías de integración y despliegue continuo (CI/CD).\n",
    "\n",
    "**Escalabilidad**: La arquitectura basada en contenedores de Docker permite escalar horizontalmente las aplicaciones al ejecutar varios contenedores de la misma imagen. Esta escalabilidad es esencial para manejar cargas de trabajo incrementadas.\n",
    "\n",
    "**Control de Versiones y Reproducibilidad**: Las imágenes de Docker pueden tener versiones, lo que permite a los desarrolladores mantener configuraciones consistentes y volver fácilmente a versiones anteriores si es necesario. Esto garantiza que las diferentes etapas de desarrollo e implementación utilicen la misma imagen.\n",
    "\n",
    "**Simplificación de DevOps**: Docker simplifica la colaboración entre los equipos de desarrollo y operaciones. Simplifica el proceso de empaquetar, distribuir e implementar aplicaciones, reduciendo conflictos y fricciones entre equipos.\n",
    "\n",
    "**Arquitectura de Microservicios**: Docker se usa comúnmente en la arquitectura de microservicios, donde las aplicaciones se desglosan en servicios más pequeños y acoplados de manera flexible. Cada servicio se ejecuta en su propio contenedor, lo que permite el desarrollo, implementación y escalado independientes de diferentes componentes.\n",
    "\n",
    "**Ecosistema y Comunidad**: Docker cuenta con un próspero ecosistema con una amplia gama de imágenes preconstruidas disponibles en Docker Hub. La comunidad de Docker comparte mejores prácticas, tutoriales y herramientas que facilitan la adopción de la contenerización.\n",
    "\n",
    "**Resumen**: La motivación de Docker radica en su capacidad para simplificar el proceso de desarrollo y despliegue de software al proporcionar una forma estandarizada de empaquetar, distribuir y ejecutar aplicaciones, al mismo tiempo que aborda desafíos relacionados con la consistencia, la gestión de dependencias, la portabilidad, la eficiencia y la escalabilidad."
   ]
  },
  {
   "cell_type": "markdown",
   "metadata": {
    "id": "8iBLZbITk_1_"
   },
   "source": [
    "## 2. Contenerización y Aislamiento:\n",
    "---\n",
    "\n",
    "Contenerización y Aislamiento son conceptos fundamentales en Docker que desempeñan un papel crucial en cómo se implementan, gestionan y ejecutan las aplicaciones. Vamos a explorar estos conceptos en detalle:\n",
    "\n",
    "- **Contenerización:** Es el proceso de empaquetar una aplicación y sus dependencias en una única unidad llamada contenedor. Los contenedores proporcionan un entorno consistente y aislado para ejecutar aplicaciones, asegurando que se comporten de la misma manera en diferentes entornos, desde el desarrollo hasta la producción.\n",
    "\n",
    "- **Aislamiento:** El aislamiento en Docker se refiere a la separación de recursos, procesos y entornos entre contenedores y entre contenedores y el sistema anfitrión. El aislamiento garantiza que los contenedores no interfieran entre sí y operen como si estuvieran ejecutándose en sus propios entornos independientes."
   ]
  },
  {
   "cell_type": "markdown",
   "metadata": {
    "id": "tBZfCO2dk_1_"
   },
   "source": [
    "![https://www.netscaler.com/articles/what-is-containerization](images/what-is-containerization.png)"
   ]
  },
  {
   "cell_type": "markdown",
   "metadata": {
    "id": "JxrPG0a8k_1_"
   },
   "source": [
    "## 3. Imagen de Docker:\n",
    "___\n",
    "\n",
    "- Una imagen de Docker es un paquete ligero, independiente y ejecutable que incluye todo lo necesario para ejecutar un fragmento de software, incluido el código, el tiempo de ejecución, las herramientas del sistema, las bibliotecas y las configuraciones.\n",
    "- Las imágenes de Docker sirven como plantillas para crear contenedores. Se construyen a partir de un conjunto de instrucciones definidas en un archivo especial llamado Dockerfile."
   ]
  },
  {
   "cell_type": "markdown",
   "metadata": {
    "id": "MoH_HqyDk_2A"
   },
   "source": [
    "![https://www.netscaler.com/articles/what-is-containerization](images/docker_image.webp)"
   ]
  },
  {
   "cell_type": "markdown",
   "metadata": {
    "id": "5uaVu7X5k_2A"
   },
   "source": [
    "Aquí están los componentes clave y los detalles que definen lo que es una imagen de Docker:\n",
    "\n",
    "1. **Capas:** Las imágenes de Docker están compuestas por múltiples capas. Cada capa representa un conjunto de cambios en el sistema de archivos. Las capas se apilan una encima de la otra, y cada capa representa un cambio o modificación en el sistema de archivos. Este enfoque en capas permite un uso eficiente del espacio en disco y un intercambio de imágenes más rápido.\n",
    "\n",
    "2. **Imagen Base:** Las imágenes suelen basarse en una imagen base, que es el punto de partida para construir tu imagen personalizada. La imagen base puede ser una imagen oficial proporcionada por Docker o una imagen personalizada creada por ti u otros en la comunidad.\n",
    "\n",
    "3. **Dockerfile:** Las imágenes se definen mediante un Dockerfile, que es un archivo de configuración de texto plano que especifica las instrucciones para construir la imagen. El Dockerfile incluye detalles como la imagen base, las instalaciones de software adicionales, las variables de entorno, el directorio de trabajo y más.\n",
    "\n",
    "4. **Inmutable:** Las imágenes de Docker son inmutables, lo que significa que una vez creadas, su contenido no puede cambiarse. Si se requieren modificaciones, se debe crear una nueva imagen basada en la existente.\n",
    "\n",
    "5. **Versionado:** Las imágenes pueden tener versiones mediante etiquetas. Las etiquetas son etiquetas que indican una versión específica de la imagen. Por ejemplo, una imagen puede tener etiquetas como \"latest\", \"v1.0\" o \"dev\".\n",
    "\n",
    "6. **Reproducibilidad:** Las imágenes de Docker ofrecen una forma de asegurarse de que se utilice el mismo entorno en diferentes etapas del ciclo de vida de desarrollo de software, desde el desarrollo y las pruebas hasta la producción. Esta reproducibilidad reduce las inconsistencias y los problemas de implementación.\n",
    "\n",
    "7. **Docker Hub y Registros:** Las imágenes de Docker se pueden compartir y distribuir a través de Docker Hub, un registro basado en la nube donde puedes encontrar y compartir imágenes públicas. También se pueden configurar registros privados para organizaciones que necesitan gestionar su propia distribución de imágenes.\n",
    "\n",
    "8. **Eficiencia:** Las imágenes están diseñadas para ser ligeras. Docker utiliza un Sistema de Archivos de Unión para compartir capas entre imágenes, lo que optimiza el almacenamiento y reduce la duplicación de archivos.\n",
    "\n",
    "9. **Aislamiento de Aplicaciones:** Las imágenes de Docker proporcionan una forma de aislar aplicaciones y sus dependencias del sistema anfitrión y de otras aplicaciones. Este aislamiento asegura que las aplicaciones se ejecuten de manera consistente sin importar el entorno del host.\n",
    "\n",
    "10. **Facilidad de Implementación:** Las imágenes de Docker facilitan el empaquetado de aplicaciones y sus dependencias en una unidad única. Esta unidad se puede implementar y ejecutar fácilmente en cualquier entorno compatible con Docker.\n",
    "\n",
    "**Resumen:** una imagen de Docker es una instantánea de un sistema de archivos que contiene todo lo necesario para ejecutar una aplicación. Sirve como una unidad portátil, consistente y aislada que permite la implementación y ejecución de aplicaciones en diversos entornos. Las imágenes se definen mediante Dockerfiles y se pueden versionar, compartir y distribuir a través de registros de contenedores."
   ]
  },
  {
   "cell_type": "markdown",
   "metadata": {
    "id": "zLcZSWHVk_2A"
   },
   "source": [
    "## 4. Dockerfile:\n",
    "___\n",
    "\n",
    "Un Dockerfile es un archivo de configuración de texto plano utilizado para definir las instrucciones para construir una imagen de Docker. Esboza los pasos y comandos necesarios para crear un paquete de software personalizado, autocontenido y ejecutable que se puede ejecutar como un contenedor de Docker. Los Dockerfiles son un componente fundamental del ecosistema de Docker y son cruciales para crear entornos consistentes, reproducibles y portátiles para las aplicaciones."
   ]
  },
  {
   "cell_type": "markdown",
   "metadata": {
    "id": "J58saVUOk_2A"
   },
   "source": [
    "![https://www.netscaler.com/articles/what-is-containerization](images/dockerfile.png)"
   ]
  },
  {
   "cell_type": "markdown",
   "metadata": {
    "id": "rwIHyrx6k_2A"
   },
   "source": [
    "## 5. Docker Container:\n",
    "___\n",
    "\n",
    "Un contenedor de Docker es un paquete de software liviano, independiente y ejecutable que contiene todo lo necesario para ejecutar un fragmento de software, incluido el código de la aplicación, el tiempo de ejecución, las bibliotecas, las variables de entorno y las herramientas del sistema. Los contenedores se crean a partir de imágenes de Docker y proporcionan un entorno consistente y aislado para ejecutar aplicaciones. Encapsulan aplicaciones y sus dependencias, lo que les permite ejecutarse de manera confiable en diferentes entornos sin causar conflictos ni interferir con otras aplicaciones."
   ]
  },
  {
   "cell_type": "markdown",
   "metadata": {
    "id": "GFOklCaqk_2A"
   },
   "source": [
    "![Texto alternativo](images/Container_01_KMJ.jpeg)"
   ]
  },
  {
   "cell_type": "markdown",
   "metadata": {
    "id": "NbI7yXwNk_2A"
   },
   "source": [
    "Aquí están los componentes clave y los detalles que definen lo que es un contenedor de Docker:\n",
    "\n",
    "1. **Aislamiento:** Los contenedores aíslan las aplicaciones y sus dependencias del sistema host y de otros contenedores. Este aislamiento asegura que los cambios en un contenedor no afecten a otros, proporcionando un entorno limpio y controlado para ejecutar aplicaciones.\n",
    "\n",
    "2. **Estandarización:** Los contenedores de Docker son unidades estandarizadas que empaquetan aplicaciones y sus dependencias juntas. Esta estandarización simplifica los procesos de implementación, pruebas y mantenimiento.\n",
    "\n",
    "3. **Portabilidad:** Los contenedores pueden ejecutarse en cualquier sistema que admita Docker, independientemente de la infraestructura subyacente. Esta portabilidad facilita mover aplicaciones entre entornos de desarrollo, pruebas y producción, así como entre entornos locales y en la nube.\n",
    "\n",
    "4. **Sistema de Archivos y Bibliotecas:** Los contenedores tienen su propio sistema de archivos aislado que contiene el código de la aplicación, el tiempo de ejecución, las bibliotecas y otros archivos necesarios. Este sistema de archivos aislado asegura que el contenedor tenga el entorno requerido para ejecutar la aplicación.\n",
    "\n",
    "5. **Eficiencia de Recursos:** Los contenedores comparten el núcleo del sistema operativo del sistema host, lo que los hace livianos y eficientes en el uso de recursos. Consumen menos recursos en comparación con las máquinas virtuales tradicionales.\n",
    "\n",
    "6. **Gestión de Dependencias:** Los contenedores encapsulan las dependencias de la aplicación, asegurando que sean consistentes y estén aisladas del sistema host y otros contenedores. Esto elimina conflictos entre diferentes requisitos de aplicaciones.\n",
    "\n",
    "7. **Inmutable:** Los contenedores son inmutables, lo que significa que su contenido no puede cambiarse una vez creados. Si necesitas hacer cambios, creas un nuevo contenedor a partir de una imagen actualizada.\n",
    "\n",
    "8. **Redes:** Los contenedores pueden conectarse a diferentes redes, lo que permite la comunicación entre contenedores o con recursos externos. Esta capacidad de redes permite la creación de arquitecturas de microservicios.\n",
    "\n",
    "9. **Versionado:** Los contenedores pueden tener versiones mediante etiquetas de imagen. Diferentes versiones de una aplicación se pueden mantener y desplegar mediante etiquetas de imagen específicas.\n",
    "\n",
    "10. **Gestión del Ciclo de Vida:** Los contenedores tienen un ciclo de vida bien definido, desde la creación hasta la ejecución y la terminación. Docker proporciona comandos para gestionar la creación, inicio, detención, pausa y eliminación de contenedores.\n",
    "\n",
    "11. **Seguridad y Aislamiento:** Los contenedores proporcionan una capa adicional de seguridad al aislar las aplicaciones entre sí y del sistema host. Esto ayuda a prevenir que las vulnerabilidades en una aplicación afecten a otras.\n",
    "\n",
    "12. **Implementación y Escalado de Aplicaciones:** Los contenedores simplifican la implementación y el escalado de aplicaciones. Pueden ser fácilmente orquestados y gestionados mediante herramientas como Docker Compose, Kubernetes y Docker Swarm.\n",
    "\n",
    "**Resumen:** un contenedor de Docker es una unidad autocontenida que empaqueta una aplicación y sus dependencias, proporcionando un entorno consistente, aislado y portátil para ejecutar software en diferentes sistemas y entornos. Los contenedores son una tecnología clave para el desarrollo de aplicaciones modernas, permitiendo una implementación eficiente, escalabilidad y gestión."
   ]
  },
  {
   "cell_type": "markdown",
   "metadata": {
    "id": "aYZM5swmk_2A"
   },
   "source": [
    "## 5. Docker Hub and Registries:\n",
    "___\n",
    "\n",
    "Docker Hub y los registros de contenedores son plataformas diseñadas para almacenar, gestionar, distribuir y compartir imágenes de Docker. Tienen un papel fundamental en el ecosistema de Docker al proporcionar un lugar centralizado para que los desarrolladores y las organizaciones carguen, accedan y colaboren en imágenes de contenedores. Aquí tienes una explicación del flujo de trabajo de Docker Hub y los registros de contenedores:\n",
    "\n"
   ]
  },
  {
   "cell_type": "markdown",
   "metadata": {
    "id": "RGkNKXm7k_2A"
   },
   "source": [
    "![Texto alternativo](images/dockerhub.png)"
   ]
  },
  {
   "cell_type": "markdown",
   "metadata": {
    "id": "UfAAf57Ik_2A"
   },
   "source": [
    "Docker Hub y los registros de contenedores son plataformas diseñadas para almacenar, gestionar, distribuir y compartir imágenes de Docker. Tienen un papel crítico en el ecosistema de Docker al proporcionar un lugar centralizado para que los desarrolladores y las organizaciones carguen, accedan y colaboren en imágenes de contenedores. Aquí tienes una explicación detallada de Docker Hub y los registros de contenedores:\n",
    "\n",
    "**Docker Hub:**\n",
    "\n",
    "Docker Hub es el registro de contenedores en la nube predeterminado y más ampliamente utilizado. Sirve como un repositorio público para imágenes de Docker, permitiendo a los usuarios encontrar, compartir y colaborar en imágenes dentro de la comunidad de Docker. Algunos aspectos clave de Docker Hub incluyen:\n",
    "\n",
    "1. **Hospedaje de Imágenes:** Docker Hub aloja una amplia colección de imágenes de Docker, incluidas las imágenes oficiales proporcionadas y mantenidas por Docker, así como las imágenes contribuidas por la comunidad.\n",
    "\n",
    "2. **Repositorios Públicos y Privados:** Docker Hub admite tanto repositorios públicos como privados. Los repositorios públicos son accesibles para cualquier persona, mientras que los repositorios privados requieren autenticación para acceder. Los repositorios privados son útiles para almacenar imágenes propietarias o sensibles.\n",
    "\n",
    "3. **Colaboración:** Docker Hub permite la colaboración al permitir a los usuarios publicar y compartir sus imágenes de Docker. Los desarrolladores y las organizaciones pueden contribuir con imágenes a la comunidad, poniéndolas a disposición de otros para su uso.\n",
    "\n",
    "4. **Imágenes Oficiales:** Docker Hub aloja una colección de imágenes oficiales, que son mantenidas y proporcionadas por Docker. Estas imágenes sirven como imágenes base confiables para diversas tecnologías y marcos de trabajo.\n",
    "\n",
    "5. **Versionado:** Las imágenes alojadas en Docker Hub pueden tener versiones mediante etiquetas. Esto permite a los usuarios acceder a versiones específicas de una imagen y ayuda a mantener la coherencia en las implementaciones.\n",
    "\n",
    "6. **Compilaciones Automatizadas:** Docker Hub ofrece la opción de configurar compilaciones automatizadas para GitHub, Bitbucket y otros repositorios de control de versiones. Esto permite que las imágenes se construyan y actualicen automáticamente cada vez que se realizan cambios en el código.\n",
    "\n",
    "7. **Integración:** Docker Hub se integra con diversas herramientas y plataformas, incluidos Docker Desktop, Docker Cloud (ahora integrado en Docker Hub), tuberías de integración y despliegue continuo (CI/CD) y herramientas de orquestación como Kubernetes.\n",
    "\n",
    "**Registros de Contenedores:**\n",
    "\n",
    "Además de Docker Hub, existen otras soluciones de registro de contenedores que las organizaciones pueden implementar para su uso interno. Estos registros privados proporcionan un entorno controlado para almacenar y gestionar imágenes dentro de una organización. Algunos ejemplos incluyen:\n",
    "\n",
    "1. **Registros Privados:** Las organizaciones pueden establecer registros privados de contenedores para almacenar sus propias imágenes de Docker. Esto es particularmente importante para aplicaciones propietarias o cuando se requiere un control más estricto sobre la distribución y el acceso de imágenes.\n",
    "\n",
    "2. **Seguridad y Cumplimiento:** Los registros privados permiten a las organizaciones garantizar el cumplimiento de las políticas de seguridad y las regulaciones de la industria al gestionar imágenes dentro de su propia infraestructura.\n",
    "\n",
    "3. **Eficiencia de Red:** Hospedar imágenes internamente puede ser más eficiente en términos de uso de la red, especialmente al tratar con imágenes grandes o en escenarios con conectividad a Internet limitada.\n",
    "\n",
    "4. **Personalización:** Los registros privados se pueden personalizar para satisfacer los requisitos de la organización, incluida la autenticación, el control de acceso y la integración con sistemas existentes.\n",
    "\n",
    "Algunas soluciones populares de registros privados de contenedores incluyen:\n",
    "\n",
    "- **[Amazon Elastic Container Registry (ECR)](https://aws.amazon.com/es/ecr/):** Un registro de contenedores de Docker completamente administrado proporcionado por Amazon Web Services (AWS).\n",
    "- **[Artifact Registry](https://cloud.google.com/artifact-registry?hl=es-419):** El servicio de registro de contenedores administrado de Google Cloud.\n",
    "- **[Azure Container Registry](https://azure.microsoft.com/en-us/products/container-registry):** El servicio de registro de contenedores de Microsoft Azure.\n",
    "- **[Harbor](https://goharbor.io/):** Un registro de contenedores de código abierto que se puede implementar en tu propia infraestructura.\n",
    "\n",
    "___\n",
    "**Resumen:** Docker Hub y los registros de contenedores proporcionan plataformas para almacenar, compartir y distribuir imágenes de Docker. Docker Hub sirve como un registro público para la comunidad de Docker, mientras que las organizaciones pueden configurar registros privados para administrar sus propias imágenes de manera segura y eficiente."
   ]
  },
  {
   "cell_type": "markdown",
   "metadata": {
    "id": "D-zQlKCmk_2A"
   },
   "source": [
    "## 6. Casos de uso en ciencia para Docker\n",
    "___\n",
    "- Docker se utiliza ampliamente para diversos propósitos, incluyendo desarrollo web, arquitectura de microservicios, integración y despliegue continuo, pruebas y entornos de desarrollo/pruebas.\n",
    "\n",
    "Docker ha encontrado numerosos casos de uso en el campo de la ciencia debido a su capacidad para crear entornos aislados y reproducibles para ejecutar aplicaciones. Aquí hay algunos casos de uso donde Docker se aplica comúnmente en la investigación científica y la experimentación:\n",
    "\n",
    "1. **Investigación Reproducible:** Los contenedores de Docker permiten a los científicos encapsular todo el entorno computacional, incluidas las dependencias y configuraciones del software. Esto asegura que los resultados de la investigación sean reproducibles, ya que otros pueden ejecutar el mismo entorno contenedorizado para validar los hallazgos.\n",
    "\n",
    "2. **Análisis de Datos:** Docker se puede usar para crear entornos contenedorizados para tareas de análisis de datos, lo que permite a los investigadores empaquetar sus flujos de trabajo de procesamiento de datos, bibliotecas y scripts. Esto facilita compartir y colaborar en flujos de trabajo de análisis.\n",
    "\n",
    "3. **Aprendizaje Automático e IA:** Docker se utiliza con frecuencia en la investigación de aprendizaje automático e inteligencia artificial. Los investigadores pueden empaquetar sus modelos, bibliotecas y dependencias en contenedores para garantizar resultados consistentes en diferentes entornos.\n",
    "\n",
    "4. **Bioinformática:** Docker se utiliza en bioinformática para empaquetar flujos de trabajo de análisis complejos y herramientas para el procesamiento de datos biológicos. Esto permite a los investigadores compartir y reproducir análisis en un entorno controlado.\n",
    "\n",
    "5. **Computación de Alto Rendimiento:** Los contenedores de Docker se pueden usar en clústeres de computación de alto rendimiento para crear entornos consistentes para simulaciones científicas y cálculos. Los contenedores son livianos y se pueden escalar fácilmente en nodos del clúster.\n",
    "\n",
    "6. **Simulación Científica:** Los contenedores de Docker se utilizan para crear entornos aislados para ejecutar simulaciones, ya sea en física, química, ingeniería u otras disciplinas científicas. El entorno aislado asegura la consistencia en los resultados de la simulación.\n",
    "\n",
    "7. **Colaboración:** Docker simplifica la colaboración entre los investigadores al garantizar que todos utilicen el mismo entorno. Los contenedores eliminan problemas de compatibilidad y la necesidad de configurar entornos desde cero.\n",
    "\n",
    "8. **Laboratorios Virtuales:** Los investigadores pueden usar Docker para crear laboratorios virtuales para estudiantes y colegas, donde pueden acceder a entornos preconfigurados para experimentación y aprendizaje.\n",
    "\n",
    "9. **Computación en la Nube y DevOps:** Los contenedores de Docker son adecuados para implementar aplicaciones científicas en la nube. Los contenedores se pueden mover fácilmente entre entornos locales y en la nube, lo que hace que la investigación basada en la nube sea más eficiente.\n",
    "\n",
    "10. **Estudios de Campo:** Los contenedores de Docker se pueden utilizar para configurar entornos consistentes y controlados para estudios de campo y experimentos remotos, asegurando que la recopilación y el análisis de datos sean estandarizados.\n",
    "\n",
    "11. **Software Personalizado:** Los investigadores pueden empaquetar herramientas de software personalizadas, algoritmos y aplicaciones en contenedores de Docker, facilitando la distribución y el uso de sus herramientas por otros en la comunidad.\n",
    "\n",
    "12. **Preservación de Software Heredado:** Docker se puede utilizar para encapsular y mantener software antiguo que puede ser necesario para replicar experimentos históricos o analizar conjuntos de datos antiguos.\n",
    "\n",
    "En resumen, la capacidad de Docker para proporcionar entornos consistentes y aislados lo convierte en una herramienta valiosa en la investigación científica. Mejora la reproducibilidad, facilita la colaboración y simplifica la implementación de aplicaciones científicas en diversos entornos.\n"
   ]
  },
  {
   "cell_type": "markdown",
   "metadata": {
    "id": "UKgWga9Kk_2B"
   },
   "source": [
    "## Verificación de la Instalación de Docker:\n",
    "\n",
    "- Abre una terminal o símbolo del sistema.\n",
    "- Escribe ***docker --version*** para verificar si Docker está instalado correctamente.\n",
    "- Escribe ***docker info*** para obtener información detallada sobre tu instalación de Docker."
   ]
  },
  {
   "cell_type": "code",
   "execution_count": 1,
   "metadata": {
    "id": "0MEDYCsCk_2B",
    "outputId": "5b6805bf-7ed6-487c-ec8c-9689a0ff6001"
   },
   "outputs": [
    {
     "name": "stdout",
     "output_type": "stream",
     "text": [
      "Docker version 24.0.2, build cb74dfcd85\n"
     ]
    }
   ],
   "source": [
    "!docker --version"
   ]
  },
  {
   "cell_type": "markdown",
   "metadata": {
    "id": "e6EvZ6IPk_2B"
   },
   "source": [
    "## 3. Ejecutar tu Primer Contenedor Docker:\n",
    "\n",
    "### Básico:\n",
    "- Abre una terminal o símbolo del sistema.\n",
    "- Escribe ***docker run hello-world***.\n",
    "- Docker descargará la imagen \"hello-world\" desde Docker Hub y la ejecutará en un contenedor.\n",
    "- Si todo está configurado correctamente, deberías ver un mensaje que confirma que Docker está funcionando."
   ]
  },
  {
   "cell_type": "code",
   "execution_count": 2,
   "metadata": {
    "colab": {
     "base_uri": "https://localhost:8080/"
    },
    "id": "LAHCc2MHk_2B",
    "outputId": "7fbe3cae-e112-4d9e-ffc7-f7251c0a7387"
   },
   "outputs": [
    {
     "name": "stdout",
     "output_type": "stream",
     "text": [
      "/bin/bash: line 1: docker: command not found\n"
     ]
    }
   ],
   "source": [
    "!docker run hello-world"
   ]
  },
  {
   "cell_type": "markdown",
   "metadata": {
    "id": "wCiDnRdgk_2B"
   },
   "source": [
    "### Intermedio: Descargar la Imagen de Nginx\n",
    "\n",
    "**Paso 1:** Descargar la Imagen de Nginx\n",
    "\n",
    "- Escribe el siguiente comando para descargar la imagen de Nginx desde Docker Hub:"
   ]
  },
  {
   "cell_type": "code",
   "execution_count": null,
   "metadata": {
    "id": "qsF7h5oGk_2B",
    "outputId": "3cc7d6b4-a9c4-4c64-a612-240169b1937c"
   },
   "outputs": [
    {
     "name": "stdout",
     "output_type": "stream",
     "text": [
      "Using default tag: latest\n",
      "Error response from daemon: Get \"https://registry-1.docker.io/v2/\": dialing registry-1.docker.io:443 with direct connection: resolving host registry-1.docker.io: lookup registry-1.docker.io: no such host\n"
     ]
    }
   ],
   "source": [
    "!docker pull nginx"
   ]
  },
  {
   "cell_type": "markdown",
   "metadata": {
    "id": "wPrJ9k-Sk_2C"
   },
   "source": [
    "Paso 2: Crear un Directorio y un Archivo HTML\n",
    "\n",
    "Crea un directorio en tu sistema donde colocarás tu archivo index.html personalizado. Para este ejemplo, llamémoslo \"my_website\":"
   ]
  },
  {
   "cell_type": "code",
   "execution_count": null,
   "metadata": {
    "id": "t30RiV_tk_2C",
    "outputId": "1c44e1ae-f3dc-4519-f24e-acc27a828b6c"
   },
   "outputs": [
    {
     "name": "stdout",
     "output_type": "stream",
     "text": [
      "1. Fundamentals.ipynb  index.html\n",
      "\u001b[1m\u001b[36mimages\u001b[m\u001b[m/                \u001b[1m\u001b[36mmy_website\u001b[m\u001b[m/\n"
     ]
    }
   ],
   "source": [
    "ls"
   ]
  },
  {
   "cell_type": "code",
   "execution_count": null,
   "metadata": {
    "id": "y6kpmCM6k_2C"
   },
   "outputs": [],
   "source": [
    "#!mkdir my_website"
   ]
  },
  {
   "cell_type": "markdown",
   "metadata": {
    "id": "gAcrt8Pnk_2C"
   },
   "source": [
    "- Dentro del directorio \"my_website\", crea un archivo index.html y añade algún contenido. Por ejemplo:\n",
    "\n",
    "        <html>\n",
    "        <head>\n",
    "            <title>Welcome to My Website</title>\n",
    "        </head>\n",
    "        <body>\n",
    "            <h1>Hello, Docker!</h1>\n",
    "            <p>This is my first Docker container.</p>\n",
    "        </body>\n",
    "        </html>\n"
   ]
  },
  {
   "cell_type": "code",
   "execution_count": null,
   "metadata": {
    "id": "qn6CP-WGk_2C",
    "outputId": "86d83449-91c2-4eb3-8f0e-97e6b3e2e676"
   },
   "outputs": [
    {
     "name": "stdout",
     "output_type": "stream",
     "text": [
      "<!DOCTYPE html>\n",
      "<html>\n",
      "<head>\n",
      "    <title>Welcome to My Website</title>\n",
      "</head>\n",
      "<body>\n",
      "    <h1>Hello, Docker!</h1>\n",
      "    <p>This is my first Docker container.</p>\n",
      "</body>\n",
      "</html>"
     ]
    }
   ],
   "source": [
    "!cat index.html"
   ]
  },
  {
   "cell_type": "markdown",
   "metadata": {
    "id": "1na3wioPk_2C"
   },
   "source": [
    "**Paso 3:** Ejecutar el Contenedor de Nginx\n",
    "\n",
    "- Ejecuta el siguiente comando para iniciar un contenedor de Nginx:"
   ]
  },
  {
   "cell_type": "code",
   "execution_count": null,
   "metadata": {
    "id": "YniOQjOuk_2C",
    "outputId": "04bae711-0163-4cd4-a817-cc5d918156ce"
   },
   "outputs": [
    {
     "name": "stdout",
     "output_type": "stream",
     "text": [
      "4dbe99e90a9b32e9b72ce0ecca47da377a5ce931424de3710f4801c01c2e447b\n"
     ]
    }
   ],
   "source": [
    "!docker run -d -p 80:80 -v $(pwd):/usr/share/nginx/html --name my_nginx_container nginx"
   ]
  },
  {
   "cell_type": "markdown",
   "metadata": {
    "id": "PxjDoveEk_2C"
   },
   "source": [
    "Vamos a desglosar este comando:\n",
    "- ***docker run***: Este es el comando para crear y iniciar un contenedor a partir de una imagen.\n",
    "- ***-d***: Esta bandera ejecuta el contenedor en modo desacoplado, lo que significa que se ejecuta en segundo plano.\n",
    "- ***-p 80:80***: Esta bandera mapea el puerto 80 del host al puerto 80 dentro del contenedor, lo que te permite acceder al servidor web Nginx en el puerto 80 de tu localhost.\n",
    "- ***-v $(pwd):/usr/share/nginx/html***: Esta bandera monta el directorio actual (my_website) en tu máquina anfitriona al directorio ***/usr/share/nginx/html*** dentro del contenedor. De esta manera, tu archivo personalizado ***index.html*** será servido por Nginx.\n",
    "- ***--name my_nginx_container***: Esta bandera asigna un nombre personalizado al contenedor, en este caso, \"my_nginx_container\".\n",
    "- ***nginx***: Este es el nombre de la imagen que deseas utilizar para crear el contenedor."
   ]
  },
  {
   "cell_type": "markdown",
   "metadata": {
    "id": "X_rgibLQk_2C"
   },
   "source": [
    "- **Paso 5**: Acceder al Servidor Web\n",
    "\n",
    "Ahora que tu contenedor está en funcionamiento, puedes acceder al servidor web abriendo un navegador web e ingresando http://localhost o http://127.0.0.1.\n",
    "Deberías ver el contenido de tu archivo index.html personalizado mostrado en el navegador."
   ]
  },
  {
   "cell_type": "markdown",
   "metadata": {
    "id": "jZeK1u8Yk_2C"
   },
   "source": [
    "- **Paso 6**: Detener y Eliminar el Contenedor (Opcional)\n",
    "\n",
    "Para detener el contenedor en ejecución, utiliza el siguiente comando:"
   ]
  },
  {
   "cell_type": "code",
   "execution_count": null,
   "metadata": {
    "id": "FAoxN_USk_2C",
    "outputId": "9897ec92-a358-46df-ae58-333720d5316f"
   },
   "outputs": [
    {
     "name": "stdout",
     "output_type": "stream",
     "text": [
      "my_nginx_container\n"
     ]
    }
   ],
   "source": [
    "!docker stop my_nginx_container"
   ]
  },
  {
   "cell_type": "markdown",
   "metadata": {
    "id": "cmcmdxYSk_2H"
   },
   "source": [
    "Para eliminar el contenedor, utiliza el siguiente comando:"
   ]
  },
  {
   "cell_type": "code",
   "execution_count": null,
   "metadata": {
    "id": "5wSVGmY2k_2H",
    "outputId": "c1b14577-cb91-47a3-c519-f65dd7e027e3"
   },
   "outputs": [
    {
     "name": "stdout",
     "output_type": "stream",
     "text": [
      "my_nginx_container\n"
     ]
    }
   ],
   "source": [
    "!docker rm my_nginx_container"
   ]
  },
  {
   "cell_type": "markdown",
   "metadata": {
    "id": "wIllWdlpk_2H"
   },
   "source": [
    "***Note***: If you don't plan to use the container anymore, you can remove it to free up resources. However, keep in mind that removing a container also removes its data, so if you want to keep the data, you should consider using volumes to persist it.\n"
   ]
  },
  {
   "cell_type": "markdown",
   "metadata": {
    "id": "-cg8gI69k_2H"
   },
   "source": [
    "¡Eso es todo! Has ejecutado exitosamente tu primer contenedor Docker.\n",
    "\n",
    "Ahora puedes explorar más características de Docker, como crear imágenes personalizadas usando Dockerfiles, usar Docker Compose para gestionar aplicaciones de múltiples contenedores y mucho más. ¡Feliz contenerización!"
   ]
  },
  {
   "cell_type": "markdown",
   "metadata": {
    "id": "fS9HzRYIk_2H"
   },
   "source": [
    "### 4. Explorar Imágenes de Docker:\n",
    "\n",
    "Explorar imágenes de Docker es una parte esencial de trabajar con Docker. Las imágenes de Docker son los componentes básicos de los contenedores y contienen todas las dependencias y configuraciones necesarias para ejecutar tu aplicación. Las imágenes de Docker son plantillas para los contenedores. Puedes usar imágenes existentes o crear las tuyas propias. A continuación, se detalla el proceso para explorar imágenes de Docker."
   ]
  },
  {
   "cell_type": "markdown",
   "metadata": {
    "id": "fRxNKtpTk_2H"
   },
   "source": [
    "- Listar Imágenes de Docker Disponibles:\n",
    "\n",
    "Para ver una lista de imágenes de Docker disponibles en tu sistema, abre una terminal o símbolo del sistema y escribe:"
   ]
  },
  {
   "cell_type": "code",
   "execution_count": null,
   "metadata": {
    "id": "cd58F-yAk_2H",
    "outputId": "353cfe91-8247-4553-b786-31d9bdcd24a4"
   },
   "outputs": [
    {
     "name": "stdout",
     "output_type": "stream",
     "text": [
      "REPOSITORY                    TAG       IMAGE ID       CREATED         SIZE\n",
      "jupyter_server                latest    bd735acb6f7b   4 days ago      1.35GB\n",
      "<none>                        <none>    e804ba8004c9   4 days ago      1.35GB\n",
      "<none>                        <none>    341a2135d531   4 days ago      1.35GB\n",
      "<none>                        <none>    073ce6b0f986   4 days ago      1.35GB\n",
      "<none>                        <none>    ade86720168c   4 days ago      1.35GB\n",
      "jupyter/base-notebook         latest    eb7eb8b805af   5 days ago      1.06GB\n",
      "daskdev/dask                  latest    f0a7c6addbe7   7 days ago      1.32GB\n",
      "my_custom_nginx               latest    89da1fb6dcb9   2 weeks ago     187MB\n",
      "nginx                         latest    89da1fb6dcb9   2 weeks ago     187MB\n",
      "python                        3.9       60d390c1959b   2 months ago    997MB\n",
      "hfarias                       latest    42eb93eb9464   3 months ago    179MB\n",
      "miapp                         latest    42eb93eb9464   3 months ago    179MB\n",
      "test                          latest    42eb93eb9464   3 months ago    179MB\n",
      "docker/disk-usage-extension   0.2.7     94a994303197   3 months ago    2.81MB\n",
      "ghcr.io/dask/dask-notebook    latest    59ffc0ebaa2b   3 months ago    1.58GB\n",
      "ghcr.io/dask/dask             latest    c9a1114a74e0   3 months ago    1.3GB\n",
      "docker/welcome-to-docker      latest    924b9d1abd68   5 months ago    13.1MB\n",
      "hello-world                   latest    feb5d9fea6a5   22 months ago   13.3kB\n"
     ]
    }
   ],
   "source": [
    "!docker images"
   ]
  },
  {
   "cell_type": "markdown",
   "metadata": {
    "id": "rO5jV-Gck_2I"
   },
   "source": [
    "Este comando mostrará una lista de todas las imágenes de Docker que has descargado y guardado localmente en tu máquina."
   ]
  },
  {
   "cell_type": "markdown",
   "metadata": {
    "id": "X-HTh2OSk_2I"
   },
   "source": [
    "- Descargar Imágenes de Docker desde Docker Hub:\n",
    "\n",
    "Si deseas explorar nuevas imágenes de Docker, puedes descargarlas desde el repositorio oficial de Docker Hub u otros registros públicos o privados. Para descargar una imagen desde Docker Hub, utiliza el comando ***docker pull*** seguido del nombre de la imagen y opcionalmente la etiqueta (versión). Por ejemplo:"
   ]
  },
  {
   "cell_type": "code",
   "execution_count": null,
   "metadata": {
    "id": "9DCOPGNKk_2I",
    "outputId": "eee700ac-b69f-47ce-c856-a9d6950ee7aa"
   },
   "outputs": [
    {
     "name": "stdout",
     "output_type": "stream",
     "text": [
      "Using default tag: latest\n",
      "Error response from daemon: Get \"https://registry-1.docker.io/v2/\": dialing registry-1.docker.io:443 with direct connection: resolving host registry-1.docker.io: lookup registry-1.docker.io: no such host\n"
     ]
    }
   ],
   "source": [
    "!docker pull nginx"
   ]
  },
  {
   "cell_type": "markdown",
   "metadata": {
    "id": "gVUqf1ick_2I"
   },
   "source": [
    "Este comando descargará la última versión de la imagen de Nginx desde Docker Hub."
   ]
  },
  {
   "cell_type": "markdown",
   "metadata": {
    "id": "B46zqnHck_2I"
   },
   "source": [
    "- Inspeccionar Imágenes de Docker:\n",
    "\n",
    "Para obtener información más detallada sobre una imagen de Docker específica, puedes usar el comando **docker inspect** seguido del nombre de la imagen o el ID de la imagen. Por ejemplo:"
   ]
  },
  {
   "cell_type": "code",
   "execution_count": null,
   "metadata": {
    "id": "kVti04Dvk_2I",
    "outputId": "44c434d4-aac7-4895-c55e-05edaa940f0a"
   },
   "outputs": [
    {
     "name": "stdout",
     "output_type": "stream",
     "text": [
      "[\n",
      "    {\n",
      "        \"Id\": \"sha256:89da1fb6dcb964dd35c3f41b7b93ffc35eaf20bc61f2e1335fea710a18424287\",\n",
      "        \"RepoTags\": [\n",
      "            \"my_custom_nginx:latest\",\n",
      "            \"nginx:latest\"\n",
      "        ],\n",
      "        \"RepoDigests\": [\n",
      "            \"nginx@sha256:67f9a4f10d147a6e04629340e6493c9703300ca23a2f7f3aa56fe615d75d31ca\"\n",
      "        ],\n",
      "        \"Parent\": \"\",\n",
      "        \"Comment\": \"\",\n",
      "        \"Created\": \"2023-07-28T02:30:07.215160457Z\",\n",
      "        \"Container\": \"bf98dc4dfdd59d7841d9111d2c8e347b70b76c5e224de9e5469a37cd6192b60f\",\n",
      "        \"ContainerConfig\": {\n",
      "            \"Hostname\": \"bf98dc4dfdd5\",\n",
      "            \"Domainname\": \"\",\n",
      "            \"User\": \"\",\n",
      "            \"AttachStdin\": false,\n",
      "            \"AttachStdout\": false,\n",
      "            \"AttachStderr\": false,\n",
      "            \"ExposedPorts\": {\n",
      "                \"80/tcp\": {}\n",
      "            },\n",
      "            \"Tty\": false,\n",
      "            \"OpenStdin\": false,\n",
      "            \"StdinOnce\": false,\n",
      "            \"Env\": [\n",
      "                \"PATH=/usr/local/sbin:/usr/local/bin:/usr/sbin:/usr/bin:/sbin:/bin\",\n",
      "                \"NGINX_VERSION=1.25.1\",\n",
      "                \"NJS_VERSION=0.7.12\",\n",
      "                \"PKG_RELEASE=1~bookworm\"\n",
      "            ],\n",
      "            \"Cmd\": [\n",
      "                \"/bin/sh\",\n",
      "                \"-c\",\n",
      "                \"#(nop) \",\n",
      "                \"CMD [\\\"nginx\\\" \\\"-g\\\" \\\"daemon off;\\\"]\"\n",
      "            ],\n",
      "            \"Image\": \"sha256:6634f389b46db3b5c23f6c0a5f9e5595c83a2cbd9f1359a47028ab313a393315\",\n",
      "            \"Volumes\": null,\n",
      "            \"WorkingDir\": \"\",\n",
      "            \"Entrypoint\": [\n",
      "                \"/docker-entrypoint.sh\"\n",
      "            ],\n",
      "            \"OnBuild\": null,\n",
      "            \"Labels\": {\n",
      "                \"maintainer\": \"NGINX Docker Maintainers <docker-maint@nginx.com>\"\n",
      "            },\n",
      "            \"StopSignal\": \"SIGQUIT\"\n",
      "        },\n",
      "        \"DockerVersion\": \"20.10.23\",\n",
      "        \"Author\": \"\",\n",
      "        \"Config\": {\n",
      "            \"Hostname\": \"\",\n",
      "            \"Domainname\": \"\",\n",
      "            \"User\": \"\",\n",
      "            \"AttachStdin\": false,\n",
      "            \"AttachStdout\": false,\n",
      "            \"AttachStderr\": false,\n",
      "            \"ExposedPorts\": {\n",
      "                \"80/tcp\": {}\n",
      "            },\n",
      "            \"Tty\": false,\n",
      "            \"OpenStdin\": false,\n",
      "            \"StdinOnce\": false,\n",
      "            \"Env\": [\n",
      "                \"PATH=/usr/local/sbin:/usr/local/bin:/usr/sbin:/usr/bin:/sbin:/bin\",\n",
      "                \"NGINX_VERSION=1.25.1\",\n",
      "                \"NJS_VERSION=0.7.12\",\n",
      "                \"PKG_RELEASE=1~bookworm\"\n",
      "            ],\n",
      "            \"Cmd\": [\n",
      "                \"nginx\",\n",
      "                \"-g\",\n",
      "                \"daemon off;\"\n",
      "            ],\n",
      "            \"Image\": \"sha256:6634f389b46db3b5c23f6c0a5f9e5595c83a2cbd9f1359a47028ab313a393315\",\n",
      "            \"Volumes\": null,\n",
      "            \"WorkingDir\": \"\",\n",
      "            \"Entrypoint\": [\n",
      "                \"/docker-entrypoint.sh\"\n",
      "            ],\n",
      "            \"OnBuild\": null,\n",
      "            \"Labels\": {\n",
      "                \"maintainer\": \"NGINX Docker Maintainers <docker-maint@nginx.com>\"\n",
      "            },\n",
      "            \"StopSignal\": \"SIGQUIT\"\n",
      "        },\n",
      "        \"Architecture\": \"amd64\",\n",
      "        \"Os\": \"linux\",\n",
      "        \"Size\": 186860096,\n",
      "        \"VirtualSize\": 186860096,\n",
      "        \"GraphDriver\": {\n",
      "            \"Data\": {\n",
      "                \"LowerDir\": \"/var/lib/docker/overlay2/1a3b1a20272954a7620a9ede91bfa7a3f83353ae6fb933893d2123b7ca45fb15/diff:/var/lib/docker/overlay2/26134aea6628139b558ae617be06abfe5bcaed405da2714fc5eead3d1b94b3ee/diff:/var/lib/docker/overlay2/0f3298beecc9a96965f2d9023b58c2fcb9ce09364305bf5b573904c7de4efe7b/diff:/var/lib/docker/overlay2/ab023abe0b7a17f7dd4dee8f2aac57d76c25d5b57fc450e7f3c0b336588be9f9/diff:/var/lib/docker/overlay2/af7f19e1e6316f36131a2e6596e2958f9d67cf3f394d6d0a8250d3d9216130b7/diff:/var/lib/docker/overlay2/7f5b4b693f043667f882051c24b1a0ab9040c4ee30f6d12b46886b99d240d0e2/diff\",\n",
      "                \"MergedDir\": \"/var/lib/docker/overlay2/cde5be0706cb9b2afc87a702afa15b8c98ce0b63ca0e0218422fd6afcec41885/merged\",\n",
      "                \"UpperDir\": \"/var/lib/docker/overlay2/cde5be0706cb9b2afc87a702afa15b8c98ce0b63ca0e0218422fd6afcec41885/diff\",\n",
      "                \"WorkDir\": \"/var/lib/docker/overlay2/cde5be0706cb9b2afc87a702afa15b8c98ce0b63ca0e0218422fd6afcec41885/work\"\n",
      "            },\n",
      "            \"Name\": \"overlay2\"\n",
      "        },\n",
      "        \"RootFS\": {\n",
      "            \"Type\": \"layers\",\n",
      "            \"Layers\": [\n",
      "                \"sha256:c6e34807c2d51444c41c15f4fda65847faa2f43c9b4b976a2f6f476eca7429ce\",\n",
      "                \"sha256:24ee1d7d6a627866b28ea4606d2cefa5441de7bda3c7b572b4ae2ad64b9c3015\",\n",
      "                \"sha256:4deafab383fa6927aa8bf6f8eca2d6e9753e915586c646ce52282fb9ae30cb95\",\n",
      "                \"sha256:8aedfcd777c711e7340119f3a0ec335c627bd27f8ff7fdab6625b68399556e0a\",\n",
      "                \"sha256:c88d3a8ff0091f25bdc96b39ec98a24febf6322d7029658739fd66b2cac9ef55\",\n",
      "                \"sha256:abc3beec4b30391beaa095ee8912bbf9266029b57007991a703038de9dd2d68c\",\n",
      "                \"sha256:922d16116201a9a9ce374dee93adc656cc91f5165dc3ee2d4606c5d71681fd6a\"\n",
      "            ]\n",
      "        },\n",
      "        \"Metadata\": {\n",
      "            \"LastTagTime\": \"2023-08-03T22:24:17.605731592Z\"\n",
      "        }\n",
      "    }\n",
      "]\n"
     ]
    }
   ],
   "source": [
    "!docker inspect nginx"
   ]
  },
  {
   "cell_type": "markdown",
   "metadata": {
    "id": "fzJ6TGj5k_2I"
   },
   "source": [
    "Este comando proporcionará una salida en formato JSON con varios detalles sobre la imagen, como su configuración, capas, variables de entorno y más."
   ]
  },
  {
   "cell_type": "markdown",
   "metadata": {
    "id": "2I7GN1j6k_2I"
   },
   "source": [
    "- Etiquetar Imágenes de Docker:\n",
    "\n",
    "Puedes asignar una etiqueta personalizada a una imagen de Docker para facilitar su gestión o identificación posterior. Para etiquetar una imagen, utiliza el comando docker tag seguido de la imagen de origen y la nueva etiqueta. Por ejemplo:"
   ]
  },
  {
   "cell_type": "code",
   "execution_count": null,
   "metadata": {
    "id": "YfrJfAztk_2I"
   },
   "outputs": [],
   "source": [
    "!docker tag nginx my_custom_nginx:latest"
   ]
  },
  {
   "cell_type": "code",
   "execution_count": null,
   "metadata": {
    "id": "4D1uVUV8k_2I",
    "outputId": "cedf4114-0dd4-4b7c-cc6f-6f9d16c39e42"
   },
   "outputs": [
    {
     "name": "stdout",
     "output_type": "stream",
     "text": [
      "REPOSITORY                    TAG       IMAGE ID       CREATED         SIZE\n",
      "jupyter_server                latest    bd735acb6f7b   4 days ago      1.35GB\n",
      "<none>                        <none>    e804ba8004c9   4 days ago      1.35GB\n",
      "<none>                        <none>    341a2135d531   4 days ago      1.35GB\n",
      "<none>                        <none>    073ce6b0f986   4 days ago      1.35GB\n",
      "<none>                        <none>    ade86720168c   4 days ago      1.35GB\n",
      "jupyter/base-notebook         latest    eb7eb8b805af   5 days ago      1.06GB\n",
      "daskdev/dask                  latest    f0a7c6addbe7   7 days ago      1.32GB\n",
      "my_custom_nginx               latest    89da1fb6dcb9   2 weeks ago     187MB\n",
      "nginx                         latest    89da1fb6dcb9   2 weeks ago     187MB\n",
      "python                        3.9       60d390c1959b   2 months ago    997MB\n",
      "hfarias                       latest    42eb93eb9464   3 months ago    179MB\n",
      "miapp                         latest    42eb93eb9464   3 months ago    179MB\n",
      "test                          latest    42eb93eb9464   3 months ago    179MB\n",
      "docker/disk-usage-extension   0.2.7     94a994303197   3 months ago    2.81MB\n",
      "ghcr.io/dask/dask-notebook    latest    59ffc0ebaa2b   3 months ago    1.58GB\n",
      "ghcr.io/dask/dask             latest    c9a1114a74e0   3 months ago    1.3GB\n",
      "docker/welcome-to-docker      latest    924b9d1abd68   5 months ago    13.1MB\n",
      "hello-world                   latest    feb5d9fea6a5   22 months ago   13.3kB\n"
     ]
    }
   ],
   "source": [
    "!docker images"
   ]
  },
  {
   "cell_type": "markdown",
   "metadata": {
    "id": "ASBXbfRzk_2I"
   },
   "source": [
    "Esto creará una nueva imagen con la etiqueta my_custom_nginx:latest basada en la imagen original de nginx."
   ]
  },
  {
   "cell_type": "markdown",
   "metadata": {
    "id": "xmZ9bLEEk_2I"
   },
   "source": [
    "- Eliminar Imágenes de Docker:\n",
    "\n",
    "Si tienes imágenes que ya no necesitas, puedes eliminarlas para liberar espacio en el disco. Para eliminar una imagen de Docker, utiliza el comando docker rmi seguido del nombre de la imagen o el ID de la imagen. Por ejemplo:"
   ]
  },
  {
   "cell_type": "code",
   "execution_count": null,
   "metadata": {
    "id": "GSmNPPUUk_2I"
   },
   "outputs": [],
   "source": [
    "!docker rmi nginx"
   ]
  },
  {
   "cell_type": "markdown",
   "metadata": {
    "id": "B9D9Krvsk_2J"
   },
   "source": [
    "**Nota** que no puedes eliminar una imagen si está siendo utilizada por un contenedor en ejecución. Necesitas detener y eliminar todos los contenedores que se basan en la imagen antes de poder eliminarla."
   ]
  },
  {
   "cell_type": "markdown",
   "metadata": {
    "id": "OhV2Kwi6k_2J"
   },
   "source": [
    "- Historial de Imágenes de Docker:\n",
    "\n",
    "Puedes ver el historial de una imagen de Docker para conocer cómo se construyó y de qué capas está compuesta. Para ver el historial de la imagen, utiliza el comando docker history seguido del nombre de la imagen o el ID de la imagen. Por ejemplo:"
   ]
  },
  {
   "cell_type": "code",
   "execution_count": null,
   "metadata": {
    "id": "HmcBQCVwk_2J",
    "outputId": "c389f98c-6d1b-4209-c8ed-6af474c03d96"
   },
   "outputs": [
    {
     "name": "stdout",
     "output_type": "stream",
     "text": [
      "IMAGE          CREATED        CREATED BY                                      SIZE      COMMENT\n",
      "42eb93eb9464   3 months ago   CMD [\"node\" \"/app/src/index.js\"]                0B        buildkit.dockerfile.v0\n",
      "<missing>      3 months ago   RUN /bin/sh -c yarn install --production # b…   85.3MB    buildkit.dockerfile.v0\n",
      "<missing>      3 months ago   COPY . . # buildkit                             4.63MB    buildkit.dockerfile.v0\n",
      "<missing>      3 months ago   WORKDIR /app                                    0B        buildkit.dockerfile.v0\n",
      "<missing>      2 years ago    /bin/sh -c #(nop)  CMD [\"node\"]                 0B        \n",
      "<missing>      2 years ago    /bin/sh -c #(nop)  ENTRYPOINT [\"docker-entry…   0B        \n",
      "<missing>      2 years ago    /bin/sh -c #(nop) COPY file:238737301d473041…   116B      \n",
      "<missing>      2 years ago    /bin/sh -c apk add --no-cache --virtual .bui…   7.62MB    \n",
      "<missing>      2 years ago    /bin/sh -c #(nop)  ENV YARN_VERSION=1.22.5      0B        \n",
      "<missing>      2 years ago    /bin/sh -c addgroup -g 1000 node     && addu…   75.7MB    \n",
      "<missing>      2 years ago    /bin/sh -c #(nop)  ENV NODE_VERSION=12.22.1     0B        \n",
      "<missing>      2 years ago    /bin/sh -c #(nop)  CMD [\"/bin/sh\"]              0B        \n",
      "<missing>      2 years ago    /bin/sh -c #(nop) ADD file:282b9d56236cae296…   5.62MB    \n"
     ]
    }
   ],
   "source": [
    "!docker history hfarias"
   ]
  },
  {
   "cell_type": "markdown",
   "metadata": {
    "id": "vKzqqHknk_2J"
   },
   "source": [
    "Este comando mostrará una lista de capas y comandos utilizados para construir la imagen con la etiqueta \\<tag>."
   ]
  },
  {
   "cell_type": "markdown",
   "metadata": {
    "id": "kUiatypak_2J"
   },
   "source": [
    "**Resumen**: Explorar imágenes de Docker es crucial para comprender su contenido y gestionar de manera efectiva tus entornos de desarrollo y producción. Con este conocimiento, puedes descargar, inspeccionar, etiquetar y eliminar imágenes de Docker según tus necesidades específicas."
   ]
  },
  {
   "cell_type": "markdown",
   "metadata": {
    "id": "pRRBQEgck_2J"
   },
   "source": [
    "## 5. Gestionar Contenedores:\n",
    "\n",
    "Gestionar contenedores de Docker implica tareas como iniciar, detener, inspeccionar y eliminar contenedores. A continuación, se detalla el proceso para gestionar contenedores de Docker:"
   ]
  },
  {
   "cell_type": "markdown",
   "metadata": {
    "id": "SFloaT0Vk_2J"
   },
   "source": [
    "- **5.1 Listar Contenedores en Ejecución:**\n",
    "\n",
    "Para ver una lista de todos los contenedores en ejecución en tu sistema, abre una terminal o símbolo del sistema y utiliza el siguiente comando:"
   ]
  },
  {
   "cell_type": "code",
   "execution_count": null,
   "metadata": {
    "id": "RPZO2Mbtk_2J",
    "outputId": "c66c2f0f-7b0c-44e5-dd3d-3cf03d030dfd"
   },
   "outputs": [
    {
     "name": "stdout",
     "output_type": "stream",
     "text": [
      "CONTAINER ID   IMAGE     COMMAND   CREATED   STATUS    PORTS     NAMES\n"
     ]
    }
   ],
   "source": [
    "!docker ps"
   ]
  },
  {
   "cell_type": "markdown",
   "metadata": {
    "id": "Yf8WEEV_k_2J"
   },
   "source": [
    "Este comando mostrará una lista de contenedores en ejecución junto con sus detalles, como el ID del contenedor, la imagen, el comando, el estado, los puertos y los nombres."
   ]
  },
  {
   "cell_type": "markdown",
   "metadata": {
    "id": "I86WEViWk_2J"
   },
   "source": [
    "- **5.2 Listar Todos los Contenedores (Ejecutándose y Detenidos):**\n",
    "\n",
    "Para ver una lista de todos los contenedores, incluyendo los que están en ejecución y los detenidos, utiliza el siguiente comando:"
   ]
  },
  {
   "cell_type": "code",
   "execution_count": null,
   "metadata": {
    "id": "Win_AdODk_2J",
    "outputId": "19cb3f3d-5471-4f60-81dc-9e55df92ad7e"
   },
   "outputs": [
    {
     "name": "stdout",
     "output_type": "stream",
     "text": [
      "CONTAINER ID   IMAGE                               COMMAND                  CREATED         STATUS                      PORTS                    NAMES\n",
      "7c23411281bc   hello-world                         \"/hello\"                 9 minutes ago   Exited (0) 9 minutes ago                             epic_zhukovsky\n",
      "c752202a4a68   hello-world                         \"/hello\"                 2 hours ago     Exited (0) 2 hours ago                               magical_merkle\n",
      "b476822bd603   jupyter_server                      \"tini -g -- jupyter …\"   3 hours ago     Exited (130) 3 hours ago                             hungry_wilson\n",
      "0a50008d0c48   hello-world                         \"/hello\"                 17 hours ago    Exited (0) 17 hours ago                              mystifying_driscoll\n",
      "fae8696c13cb   hello-world                         \"/hello\"                 17 hours ago    Exited (0) 17 hours ago                              kind_leavitt\n",
      "33b81f51d921   jupyter_server                      \"tini -g -- jupyter …\"   4 days ago      Exited (130) 4 days ago                              focused_brahmagupta\n",
      "e2a2a39fcd36   jupyter/base-notebook:latest        \"tini -g -- start-no…\"   5 days ago      Exited (130) 4 days ago                              happy_gould\n",
      "5c74c4101305   python:3.9                          \"python3\"                5 days ago      Exited (0) 5 days ago                                nifty_jang\n",
      "dfab14486004   hello-world                         \"/hello\"                 8 days ago      Exited (0) 8 days ago                                dreamy_perlman\n",
      "9befb5fc7151   ghcr.io/dask/dask:latest            \"tini -g -- /usr/bin…\"   3 months ago    Exited (0) 3 months ago                              compose-worker-3\n",
      "4ec747df652b   ghcr.io/dask/dask:latest            \"tini -g -- /usr/bin…\"   3 months ago    Exited (0) 3 months ago                              compose-scheduler-1\n",
      "f7a35a1df658   ghcr.io/dask/dask:latest            \"tini -g -- /usr/bin…\"   3 months ago    Exited (0) 3 months ago                              compose-worker-1\n",
      "e5f1875009b8   ghcr.io/dask/dask-notebook:latest   \"tini -- /usr/bin/pr…\"   3 months ago    Exited (0) 3 months ago                              compose-notebook-1\n",
      "c1491f4346c1   ghcr.io/dask/dask:latest            \"tini -g -- /usr/bin…\"   3 months ago    Exited (0) 3 months ago                              compose-worker-2\n",
      "d175926ba97c   ghcr.io/dask/dask-notebook          \"tini -- /usr/bin/pr…\"   3 months ago    Exited (129) 3 months ago                            nifty_cerf\n",
      "9abc81d81334   ghcr.io/dask/dask                   \"tini -g -- /usr/bin…\"   3 months ago    Exited (0) 3 months ago                              gifted_rubin\n",
      "4d6b47c33aeb   ghcr.io/dask/dask                   \"tini -g -- /usr/bin…\"   3 months ago    Exited (0) 3 months ago                              eager_almeida\n",
      "923871ad78ac   ghcr.io/dask/dask                   \"tini -g -- /usr/bin…\"   3 months ago    Exited (130) 3 months ago                            gallant_montalcini\n",
      "ab7088092484   ghcr.io/dask/dask                   \"tini -g -- /usr/bin…\"   3 months ago    Exited (0) 3 months ago                              objective_tu\n",
      "fe46614832ef   ghcr.io/dask/dask                   \"tini -g -- /usr/bin…\"   3 months ago    Exited (130) 3 months ago                            blissful_albattani\n",
      "e35cc22b8325   ghcr.io/dask/dask                   \"tini -g -- /usr/bin…\"   3 months ago    Exited (130) 3 months ago                            scheduler3\n",
      "0e8953672c80   hfarias                             \"docker-entrypoint.s…\"   3 months ago    Exited (255) 2 months ago   0.0.0.0:3000->3000/tcp   inspiring_mayer\n",
      "7e581aa30c34   hfarias                             \"docker-entrypoint.s…\"   3 months ago    Exited (0) 3 months ago                              infallible_chandrasekhar\n",
      "0353039311f0   hfarias                             \"docker-entrypoint.s…\"   3 months ago    Exited (0) 3 months ago                              elegant_albattani\n",
      "9d667e79dec4   hfarias                             \"docker-entrypoint.s…\"   3 months ago    Exited (1) 3 months ago                              pensive_wright\n",
      "6fa5116e98d0   hfarias                             \"docker-entrypoint.s…\"   3 months ago    Exited (0) 3 months ago                              sweet_sutherland\n",
      "3c47d07da805   miapp                               \"docker-entrypoint.s…\"   3 months ago    Exited (0) 3 months ago                              ecstatic_hugle\n",
      "13195adec06e   miapp                               \"docker-entrypoint.s…\"   3 months ago    Exited (1) 3 months ago                              dreamy_vaughan\n",
      "d51b4d5cf319   miapp                               \"docker-entrypoint.s…\"   3 months ago    Exited (0) 3 months ago                              strange_williamson\n",
      "e25a9885d4ed   ghcr.io/dask/dask                   \"tini -g -- /usr/bin…\"   3 months ago    Exited (1) 3 months ago                              agitated_brahmagupta\n",
      "0cd8752601f7   ghcr.io/dask/dask                   \"tini -g -- /usr/bin…\"   3 months ago    Exited (130) 3 months ago                            elated_poitras\n",
      "201fa067603d   ghcr.io/dask/dask                   \"tini -g -- /usr/bin…\"   3 months ago    Exited (130) 3 months ago                            scheduler2\n",
      "4e3996926bce   ghcr.io/dask/dask-notebook          \"tini -- /usr/bin/pr…\"   3 months ago    Exited (130) 3 months ago                            elated_lamarr\n",
      "6bddf6b759aa   ghcr.io/dask/dask-notebook          \"tini -- /usr/bin/pr…\"   3 months ago    Exited (130) 3 months ago                            exciting_buck\n",
      "a54051800d4a   ghcr.io/dask/dask                   \"tini -g -- /usr/bin…\"   3 months ago    Exited (0) 3 months ago                              competent_bose\n",
      "dd43659e45e8   ghcr.io/dask/dask                   \"tini -g -- /usr/bin…\"   3 months ago    Exited (1) 3 months ago                              awesome_sinoussi\n",
      "87d24d502be9   ghcr.io/dask/dask                   \"tini -g -- /usr/bin…\"   3 months ago    Exited (1) 3 months ago                              tender_jackson\n",
      "f6d5904d1c2c   ghcr.io/dask/dask                   \"tini -g -- /usr/bin…\"   3 months ago    Exited (130) 3 months ago                            scheduler\n"
     ]
    }
   ],
   "source": [
    "!docker ps -a"
   ]
  },
  {
   "cell_type": "markdown",
   "metadata": {
    "id": "CnUt6rdmk_2J"
   },
   "source": [
    "Esto mostrará todos los contenedores junto con sus detalles."
   ]
  },
  {
   "cell_type": "markdown",
   "metadata": {
    "id": "eGAku6t-k_2J"
   },
   "source": [
    "- **5.3 Iniciar un Contenedor Detenido:**\n",
    "\n",
    "Para iniciar un contenedor detenido, necesitas conocer su ID de contenedor o su nombre. Utiliza el siguiente comando para iniciar el contenedor:"
   ]
  },
  {
   "cell_type": "code",
   "execution_count": null,
   "metadata": {
    "id": "buFJXoB4k_2J"
   },
   "outputs": [],
   "source": [
    "!docker start <container_id_or_name>"
   ]
  },
  {
   "cell_type": "markdown",
   "metadata": {
    "id": "7m4AtvSjk_2J"
   },
   "source": [
    "- **5.4 Detener un Contenedor en Ejecución:**\n",
    "\n",
    "Para detener un contenedor en ejecución, también necesitas conocer su ID de contenedor o su nombre. Utiliza el siguiente comando para detener el contenedor de manera segura:"
   ]
  },
  {
   "cell_type": "code",
   "execution_count": null,
   "metadata": {
    "id": "JgmoK4k7k_2J"
   },
   "outputs": [],
   "source": [
    "!docker stop <container_id_or_name>"
   ]
  },
  {
   "cell_type": "markdown",
   "metadata": {
    "id": "QKkTEm0qk_2K"
   },
   "source": [
    "Si deseas detener un contenedor de manera forzada, puedes utilizar el comando ***docker kill*** en su lugar."
   ]
  },
  {
   "cell_type": "markdown",
   "metadata": {
    "id": "9NxvcwRbk_2K"
   },
   "source": [
    "- **5.5 Inspeccionar Detalles del Contenedor:**\n",
    "\n",
    "Para obtener información más detallada acerca de un contenedor específico, utiliza el comando docker inspect seguido del ID o el nombre del contenedor. Por ejemplo:"
   ]
  },
  {
   "cell_type": "code",
   "execution_count": null,
   "metadata": {
    "id": "tTTtuDH7k_2K"
   },
   "outputs": [],
   "source": [
    "!docker inspect my_container"
   ]
  },
  {
   "cell_type": "markdown",
   "metadata": {
    "id": "1yFd7t0Xk_2K"
   },
   "source": [
    "- **5.6 Inspeccionar Detalles del Contenedor:**\n",
    "\n",
    "Para obtener información más detallada acerca de un contenedor específico, utiliza el comando docker inspect seguido del ID o el nombre del contenedor. Por ejemplo:"
   ]
  },
  {
   "cell_type": "code",
   "execution_count": null,
   "metadata": {
    "id": "Y-ZxrTWIk_2K"
   },
   "outputs": [],
   "source": [
    "!docker inspect my_container"
   ]
  },
  {
   "cell_type": "markdown",
   "metadata": {
    "id": "j4Xu3hMBk_2K"
   },
   "source": [
    "Esto proporcionará una salida en formato JSON con varios detalles sobre el contenedor, como su configuración, ajustes de red, variables de entorno y más."
   ]
  },
  {
   "cell_type": "markdown",
   "metadata": {
    "id": "D-jennkSk_2K"
   },
   "source": [
    "- **5.7 Eliminar un Contenedor:**\n",
    "\n",
    "Para eliminar un contenedor, primero debe estar detenido. Si aún está en ejecución, deberás detenerlo primero utilizando el comando docker stop (como se menciona en el paso 5.4).\n",
    "Una vez que el contenedor esté detenido, utiliza el siguiente comando para eliminarlo:"
   ]
  },
  {
   "cell_type": "code",
   "execution_count": null,
   "metadata": {
    "id": "0J1a0J5Sk_2K"
   },
   "outputs": [],
   "source": [
    "!docker rm <container_id_or_name>"
   ]
  },
  {
   "cell_type": "markdown",
   "metadata": {
    "id": "fPskC5WYk_2K"
   },
   "source": [
    "**Nota:** El contenedor se eliminará ***permanentemente*** y sus recursos se liberarán."
   ]
  },
  {
   "cell_type": "markdown",
   "metadata": {
    "id": "hoowFNO2k_2K"
   },
   "source": [
    "- **5.8 Eliminar Todos los Contenedores Detenidos:**\n",
    "\n",
    "Si deseas eliminar todos los contenedores detenidos de una vez, puedes utilizar el siguiente comando:"
   ]
  },
  {
   "cell_type": "code",
   "execution_count": null,
   "metadata": {
    "id": "S5fPOUrSk_2K"
   },
   "outputs": [],
   "source": [
    "!docker container prune"
   ]
  },
  {
   "cell_type": "markdown",
   "metadata": {
    "id": "J7PDgSH3k_2K"
   },
   "source": [
    "**Nota:** Esto eliminará todos los contenedores detenidos, liberando espacio en disco."
   ]
  },
  {
   "cell_type": "markdown",
   "metadata": {
    "id": "PrH9bqGpk_2K"
   },
   "source": [
    "- **5.9 Gestionar los Registros del Contenedor:**\n",
    "\n",
    "Para ver los registros de un contenedor específico, utiliza el siguiente comando:"
   ]
  },
  {
   "cell_type": "code",
   "execution_count": null,
   "metadata": {
    "id": "j2RBX13qk_2L"
   },
   "outputs": [],
   "source": [
    "!docker logs <container_id_or_name>"
   ]
  },
  {
   "cell_type": "markdown",
   "metadata": {
    "id": "vKm9zTrGk_2L"
   },
   "source": [
    "**Resumen**: Estos son algunos de los comandos básicos para gestionar contenedores. Docker ofrece muchas más opciones y funcionalidades para administrar contenedores, incluyendo pausar, cambiar nombres y adjuntarse a contenedores, entre otros. Para explorar características de gestión de contenedores más avanzadas, puedes consultar la documentación oficial de Docker (https://docs.docker.com/)."
   ]
  },
  {
   "cell_type": "code",
   "execution_count": null,
   "metadata": {
    "id": "U5Z_DtJjk_2L"
   },
   "outputs": [],
   "source": []
  }
 ],
 "metadata": {
  "colab": {
   "provenance": []
  },
  "kernelspec": {
   "display_name": "Python 2",
   "language": "python",
   "name": "python2"
  },
  "language_info": {
   "codemirror_mode": {
    "name": "ipython",
    "version": 2
   },
   "file_extension": ".py",
   "mimetype": "text/x-python",
   "name": "python",
   "nbconvert_exporter": "python",
   "pygments_lexer": "ipython2",
   "version": "2.7.18"
  }
 },
 "nbformat": 4,
 "nbformat_minor": 2
}
