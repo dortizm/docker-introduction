{
 "cells": [
  {
   "cell_type": "markdown",
   "metadata": {},
   "source": [
    "# Web Server\n",
    "\n",
    "## Introducción"
   ]
  },
  {
   "cell_type": "markdown",
   "metadata": {},
   "source": [
    "Un servidor web (web server en inglés) es un software diseñado para recibir, procesar y responder a solicitudes de clientes a través de protocolos web, generalmente utilizando el protocolo HTTP (Hypertext Transfer Protocol) o su versión segura HTTPS. Su función principal es proporcionar contenido web, como páginas HTML, imágenes, archivos de estilo, scripts y otros recursos, a los navegadores web o aplicaciones cliente que los solicitan.\n",
    "\n",
    "Los servidores web son componentes esenciales de la infraestructura de internet y son responsables de servir el contenido que vemos y consumimos en línea. Cuando ingresas una URL en tu navegador, este envía una solicitud al servidor web correspondiente. El servidor web procesa esa solicitud, recupera los archivos y recursos solicitados y los envía de vuelta al navegador para que se muestren correctamente en la página web.\n",
    "\n",
    "Ejemplos populares de servidores web incluyen el servidor Apache HTTP Server, Nginx, Microsoft Internet Information Services (IIS) y LiteSpeed Web Server. Cada uno de estos servidores web tiene sus propias características, configuraciones y ventajas, pero todos cumplen la función básica de servir contenido web a los usuarios finales."
   ]
  },
  {
   "cell_type": "markdown",
   "metadata": {},
   "source": [
    "![https://www.linkedin.com/pulse/top-10-container-orchestration-tools-sandeep-kumar-patel/](images/http.png) "
   ]
  },
  {
   "cell_type": "markdown",
   "metadata": {},
   "source": [
    "## NGINX"
   ]
  },
  {
   "cell_type": "markdown",
   "metadata": {},
   "source": [
    "NGINX es un servidor web y proxy inverso de código abierto que también puede funcionar como servidor proxy para correo electrónico (IMAP/POP3), así como balanceador de carga y proxy para servidores de aplicaciones. NGINX es conocido por su eficiencia y alto rendimiento, lo que lo convierte en una opción popular para servir contenido web y manejar tráfico en línea.\n",
    "\n",
    "Las características clave de NGINX incluyen:\n",
    "\n",
    "1. **Servidor Web:** NGINX puede servir contenido estático, como archivos HTML, imágenes, scripts y otros recursos, a través del protocolo HTTP y su versión segura, HTTPS. Su arquitectura está diseñada para manejar una gran cantidad de conexiones concurrentes y mantener un bajo uso de recursos.\n",
    "\n",
    "2. **Proxy Inverso:** NGINX se utiliza comúnmente como un proxy inverso para distribuir el tráfico entrante a múltiples servidores backend. Actúa como intermediario entre los clientes y los servidores de backend, mejorando la seguridad y el rendimiento al manejar tareas como el balanceo de carga y la caché.\n",
    "\n",
    "3. **Balanceador de Carga:** NGINX puede distribuir las solicitudes de los clientes entre varios servidores backend para asegurar una distribución equitativa de la carga y evitar la sobrecarga de un solo servidor.\n",
    "\n",
    "4. **Proxy para Aplicaciones:** Puede servir como proxy para servidores de aplicaciones, como aplicaciones web y servidores de aplicaciones Java, pasando solicitudes y respuestas entre los clientes y las aplicaciones backend.\n",
    "\n",
    "5. **Redireccionamiento y Caché:** NGINX puede realizar redireccionamientos de URL y también ofrece funciones de caché para acelerar la entrega de contenido estático y reducir la carga en los servidores backend.\n",
    "\n",
    "NGINX es ampliamente utilizado en entornos de producción y es conocido por su escalabilidad, rendimiento y capacidad para manejar grandes volúmenes de tráfico. Es una opción popular para sitios web, aplicaciones y servicios en línea que requieren alta disponibilidad y un rendimiento óptimo."
   ]
  },
  {
   "cell_type": "markdown",
   "metadata": {},
   "source": [
    "### Ejercicio 1\n",
    "\n",
    "Claro, aquí tienes un tutorial básico sobre cómo configurar y ejecutar un servidor web NGINX dentro de un contenedor Docker. Este tutorial se centra en el uso de Docker para ejecutar NGINX de manera aislada. \n",
    "\n",
    "**Paso 1: Instalación de Docker**\n",
    "\n",
    "Si aún no tienes Docker instalado en tu sistema, puedes seguir las instrucciones de la [documentación oficial de Docker](https://docs.docker.com/get-docker/) para instalarlo en tu sistema operativo.\n",
    "\n",
    "**Paso 2: Creación del Contenedor NGINX**\n",
    "\n",
    "1. Abre una terminal en tu sistema.\n",
    "\n",
    "2. Ejecuta el siguiente comando para descargar la imagen oficial de NGINX desde Docker Hub y crear un contenedor a partir de ella:\n",
    "\n",
    "   ```bash\n",
    "   docker run -d --name nginx-container -p 8080:80 nginx\n",
    "   ```\n",
    "\n",
    "   Explicación de los parámetros utilizados:\n",
    "   \n",
    "   - `-d`: Ejecuta el contenedor en segundo plano.\n",
    "   - `--name nginx-container`: Asigna un nombre al contenedor.\n",
    "   - `-p 8080:80`: Mapea el puerto 8080 de tu máquina anfitriona al puerto 80 del contenedor NGINX.\n",
    "   - `nginx`: Nombre de la imagen que se utilizará para crear el contenedor.\n",
    "\n",
    "3. Una vez creado el contenedor, puedes verificar su estado y los puertos mapeados con el siguiente comando:\n",
    "\n",
    "   ```bash\n",
    "   docker ps\n",
    "   ```\n",
    "\n",
    "**Paso 3: Acceso al Servidor Web NGINX**\n",
    "\n",
    "1. Abre tu navegador web y accede a la siguiente URL para ver la página predeterminada de NGINX:\n",
    "\n",
    "   ```\n",
    "   http://localhost:8080\n",
    "   ```\n",
    "\n",
    "2. Deberías ver la página predeterminada de NGINX que se sirve desde el contenedor.\n",
    "\n",
    "**Paso 4: Detención y Eliminación del Contenedor**\n",
    "\n",
    "1. Si deseas detener y eliminar el contenedor NGINX, puedes hacerlo con los siguientes comandos:\n",
    "\n",
    "   ```bash\n",
    "   docker stop nginx-container\n",
    "   docker rm nginx-container\n",
    "   ```\n",
    "\n",
    "Este tutorial básico te ayuda a ejecutar un servidor web NGINX en un contenedor Docker. Si deseas configuraciones más avanzadas, como montar volúmenes para el contenido o personalizar la configuración de NGINX dentro del contenedor, hay más opciones a explorar. Ten en cuenta que el ejemplo proporcionado solo es para propósitos de aprendizaje, y en entornos de producción es recomendable configurar correctamente NGINX y Docker según las mejores prácticas."
   ]
  },
  {
   "cell_type": "code",
   "execution_count": 78,
   "metadata": {},
   "outputs": [
    {
     "name": "stdout",
     "output_type": "stream",
     "text": [
      "nginx\n"
     ]
    }
   ],
   "source": [
    "!docker rm nginx"
   ]
  },
  {
   "cell_type": "code",
   "execution_count": 82,
   "metadata": {},
   "outputs": [
    {
     "name": "stdout",
     "output_type": "stream",
     "text": [
      "c703c4300dbfc58228886ac7a29535a8f8fd013f94ec9dbb4a3d58a7c784570c\n"
     ]
    }
   ],
   "source": [
    "!docker run -d --name nginx-container -p 8085:80 nginx"
   ]
  },
  {
   "cell_type": "markdown",
   "metadata": {},
   "source": [
    "## Ejercicio 2\n",
    "\n",
    "Aquí tienes un tutorial más completo sobre cómo configurar y ejecutar un servidor web NGINX en un contenedor Docker, utilizando un archivo de configuración personalizado. Esto te permitirá tener un mayor control sobre la configuración de NGINX dentro del contenedor.\n",
    "\n",
    "**Paso 1: Instalación de Docker**\n",
    "\n",
    "Si aún no tienes Docker instalado en tu sistema, puedes seguir las instrucciones de la [documentación oficial de Docker](https://docs.docker.com/get-docker/) para instalarlo en tu sistema operativo.\n",
    "\n",
    "**Paso 2: Creación del Archivo de Configuración NGINX**\n",
    "\n",
    "1. Crea un directorio en tu sistema para almacenar el archivo de configuración personalizado. Por ejemplo:\n",
    "\n",
    "   ```bash\n",
    "   mkdir nginx-config\n",
    "   cd nginx-config\n",
    "   ```\n",
    "\n",
    "2. Crea un archivo de configuración llamado `nginx.conf` en el directorio que acabas de crear. Puedes utilizar tu editor de texto favorito para hacerlo. Aquí hay un ejemplo simple:\n",
    "\n",
    "   ```nginx\n",
    "   server {\n",
    "       listen 80;\n",
    "       server_name localhost;\n",
    "\n",
    "       location / {\n",
    "           root /usr/share/nginx/html;\n",
    "           index index.html;\n",
    "       }\n",
    "   }\n",
    "   ```\n",
    "\n",
    "3. Guarda y cierra el archivo.\n",
    "\n",
    "**Paso 3: Creación y Ejecución del Contenedor NGINX**\n",
    "\n",
    "1. Abre una terminal en tu sistema.\n",
    "\n",
    "2. Ejecuta el siguiente comando para crear un contenedor NGINX utilizando tu archivo de configuración personalizado:\n",
    "\n",
    "   ```bash\n",
    "   docker run -d --name nginx-container -p 8080:80 -v $(pwd)/nginx-config:/etc/nginx/conf.d nginx\n",
    "   ```\n",
    "\n",
    "   Explicación de los parámetros utilizados:\n",
    "   \n",
    "   - `-d`: Ejecuta el contenedor en segundo plano.\n",
    "   - `--name nginx-container`: Asigna un nombre al contenedor.\n",
    "   - `-p 8080:80`: Mapea el puerto 8080 de tu máquina anfitriona al puerto 80 del contenedor NGINX.\n",
    "   - `-v $(pwd)/nginx-config:/etc/nginx/conf.d`: Monta el directorio `nginx-config` de tu sistema local en el directorio de configuración de NGINX dentro del contenedor.\n",
    "   - `nginx`: Nombre de la imagen que se utilizará para crear el contenedor.\n",
    "\n",
    "3. Abre tu navegador web y accede a la siguiente URL para ver la página predeterminada de NGINX:\n",
    "\n",
    "   ```\n",
    "   http://localhost:8080\n",
    "   ```\n",
    "\n",
    "**Paso 4: Detención y Eliminación del Contenedor**\n",
    "\n",
    "1. Si deseas detener y eliminar el contenedor NGINX, puedes hacerlo con los siguientes comandos:\n",
    "\n",
    "   ```bash\n",
    "   docker stop nginx-container\n",
    "   docker rm nginx-container\n",
    "   ```\n",
    "\n",
    "Este tutorial te brinda un mayor control sobre la configuración de NGINX dentro del contenedor Docker utilizando un archivo de configuración personalizado. Puedes explorar configuraciones más avanzadas y personalizadas según tus necesidades específicas. Recuerda que este ejemplo es para propósitos de aprendizaje, y en entornos de producción es importante aplicar prácticas de seguridad y configuración adecuadas."
   ]
  },
  {
   "cell_type": "code",
   "execution_count": 86,
   "metadata": {},
   "outputs": [
    {
     "name": "stdout",
     "output_type": "stream",
     "text": [
      "nginx-container\n",
      "nginx-container\n"
     ]
    }
   ],
   "source": [
    "!docker stop nginx-container\n",
    "!docker rm nginx-container"
   ]
  },
  {
   "cell_type": "code",
   "execution_count": 87,
   "metadata": {},
   "outputs": [
    {
     "name": "stdout",
     "output_type": "stream",
     "text": [
      "bce74b7d96d8a64fe64b99035f0145bbac000c731e6bfcec443e5832b555e609\n"
     ]
    }
   ],
   "source": [
    "!docker run -d --name nginx-container -p 8086:80 -v ./nginx.conf:/etc/nginx/conf.d/default -v ./index.html:/usr/share/nginx/html/index.html nginx"
   ]
  },
  {
   "cell_type": "code",
   "execution_count": 59,
   "metadata": {},
   "outputs": [
    {
     "name": "stdout",
     "output_type": "stream",
     "text": [
      "nginx-container\n",
      "nginx-container\n"
     ]
    }
   ],
   "source": [
    "!docker stop nginx-container\n",
    "!docker rm nginx-container"
   ]
  },
  {
   "cell_type": "markdown",
   "metadata": {},
   "source": [
    "### Ejemplos de codigos de estado HTTP\n",
    "\n",
    "#### Estado 200\n",
    "\n",
    "El código de estado HTTP 200 significa \"OK\" y se utiliza para indicar que una solicitud HTTP ha sido procesada correctamente. Cuando se trata de un servidor web como NGINX, el código de estado 200 se devuelve en respuesta a una solicitud exitosa.\n",
    "\n",
    "Aquí tienes un ejemplo básico de configuración de NGINX que devuelve un código de estado 200 en respuesta a todas las solicitudes:\n",
    "\n",
    "```nginx\n",
    "server {\n",
    "    listen 80;\n",
    "    server_name localhost;\n",
    "\n",
    "    location / {\n",
    "        root /usr/share/nginx/html;\n",
    "        index index.html;\n",
    "    }\n",
    "}\n",
    "```\n",
    "\n",
    "En este ejemplo, el servidor NGINX responderá con el mensaje \"¡Hola! Esta es una respuesta con el código de estado 200 OK.\" y el código de estado 200 para todas las solicitudes que lleguen a la raíz del dominio o la dirección IP especificada.\n",
    "\n",
    "Este es solo un ejemplo básico. NGINX es altamente configurable y te permite personalizar cómo maneja las solicitudes y qué códigos de estado devuelve en función de diferentes condiciones y ubicaciones."
   ]
  },
  {
   "cell_type": "code",
   "execution_count": 89,
   "metadata": {},
   "outputs": [
    {
     "name": "stdout",
     "output_type": "stream",
     "text": [
      "HTTP/1.1 404 Not Found\n",
      "\u001b[1mServer\u001b[0m: nginx/1.25.2\n",
      "\u001b[1mDate\u001b[0m: Thu, 24 Aug 2023 15:15:18 GMT\n",
      "\u001b[1mContent-Type\u001b[0m: text/html\n",
      "\u001b[1mContent-Length\u001b[0m: 153\n",
      "\u001b[1mConnection\u001b[0m: keep-alive\n",
      "\n",
      "<html>\n",
      "<head><title>404 Not Found</title></head>\n",
      "<body>\n",
      "<center><h1>404 Not Found</h1></center>\n",
      "<hr><center>nginx/1.25.2</center>\n",
      "</body>\n",
      "</html>\n"
     ]
    }
   ],
   "source": [
    "!curl -i http://localhost:8086/error"
   ]
  },
  {
   "cell_type": "markdown",
   "metadata": {},
   "source": [
    "#### Estado 300\n",
    "El código de estado HTTP 300 se refiere a las redirecciones múltiples. Indica que la respuesta solicitada tiene más de una opción disponible y que el agente de usuario o el navegador debe elegir una. Aquí tienes un ejemplo básico de cómo configurar una redirección múltiple (código de estado 300) en NGINX:\n",
    "\n",
    "```nginx\n",
    "server {\n",
    "    listen 80;\n",
    "    server_name localhost;\n",
    "\n",
    "    location /old-page {\n",
    "        return 300 /new-page;\n",
    "    }\n",
    "\n",
    "    location /new-page {\n",
    "        return 200 \"¡Has sido redirigido a la nueva página!\";\n",
    "    }\n",
    "}\n",
    "```\n",
    "\n",
    "En este ejemplo, si un cliente accede a la ruta `/old-page`, el servidor NGINX responderá con un código de estado 300 y redireccionará al cliente a la ruta `/new-page`, donde se mostrará el mensaje \"¡Has sido redirigido a la nueva página!\" con un código de estado 200.\n",
    "\n",
    "Por supuesto, en la realidad, las redirecciones múltiples se utilizan cuando hay varias opciones disponibles y el servidor proporciona información sobre cuáles son esas opciones para que el cliente o el navegador tomen una decisión.\n",
    "\n",
    "El ejemplo proporcionado es una simplificación para ilustrar el concepto de redirección múltiple. En situaciones reales, las redirecciones múltiples se utilizan en casos como contenido duplicado en diferentes URLs o cuando un recurso está disponible en diferentes ubicaciones."
   ]
  },
  {
   "cell_type": "code",
   "execution_count": 65,
   "metadata": {},
   "outputs": [
    {
     "name": "stdout",
     "output_type": "stream",
     "text": [
      "5f2cd156a3a606fd28e68be0557d209a4bff33a9ec06180e79d2ca1d0480207c\n"
     ]
    }
   ],
   "source": [
    "!docker run -d --name nginx-container -p 8080:80 -v ./nginx_300.conf:/etc/nginx/conf.d/default.conf -v ./index.html:/usr/share/nginx/html/index.html nginx"
   ]
  },
  {
   "cell_type": "code",
   "execution_count": 66,
   "metadata": {},
   "outputs": [
    {
     "name": "stdout",
     "output_type": "stream",
     "text": [
      "HTTP/1.1 300 \n",
      "\u001b[1mServer\u001b[0m: nginx/1.25.2\n",
      "\u001b[1mDate\u001b[0m: Thu, 24 Aug 2023 13:17:35 GMT\n",
      "\u001b[1mContent-Type\u001b[0m: application/octet-stream\n",
      "\u001b[1mContent-Length\u001b[0m: 9\n",
      "\u001b[1mConnection\u001b[0m: keep-alive\n",
      "\n",
      "/new-page"
     ]
    }
   ],
   "source": [
    "!curl -i http://localhost:8080/old-page"
   ]
  },
  {
   "cell_type": "code",
   "execution_count": 67,
   "metadata": {},
   "outputs": [
    {
     "name": "stdout",
     "output_type": "stream",
     "text": [
      "HTTP/1.1 200 OK\n",
      "\u001b[1mServer\u001b[0m: nginx/1.25.2\n",
      "\u001b[1mDate\u001b[0m: Thu, 24 Aug 2023 13:17:47 GMT\n",
      "\u001b[1mContent-Type\u001b[0m: application/octet-stream\n",
      "\u001b[1mContent-Length\u001b[0m: 41\n",
      "\u001b[1mConnection\u001b[0m: keep-alive\n",
      "\n",
      "¡Has sido redirigido a la nueva página!"
     ]
    }
   ],
   "source": [
    "!curl -i http://localhost:8080/new-page"
   ]
  },
  {
   "cell_type": "code",
   "execution_count": 64,
   "metadata": {},
   "outputs": [
    {
     "name": "stdout",
     "output_type": "stream",
     "text": [
      "nginx-container\n",
      "nginx-container\n"
     ]
    }
   ],
   "source": [
    "!docker stop nginx-container\n",
    "!docker rm nginx-container"
   ]
  },
  {
   "cell_type": "markdown",
   "metadata": {},
   "source": [
    "#### Estado 400\n",
    "\n",
    "El código de estado HTTP 400 se refiere a los errores de cliente, específicamente el error de solicitud incorrecta. Este código se utiliza cuando el servidor no puede entender o procesar la solicitud del cliente debido a un formato incorrecto, sintaxis inválida o algún otro error por parte del cliente.\n",
    "\n",
    "Aquí tienes un ejemplo básico de cómo configurar una respuesta con el código de estado 400 (solicitud incorrecta) en NGINX:\n",
    "\n",
    "```nginx\n",
    "server {\n",
    "    listen 80;\n",
    "    server_name tu-dominio-o-ip.com;\n",
    "\n",
    "    location /bad-request {\n",
    "        return 400 \"¡Error! La solicitud es incorrecta.\";\n",
    "    }\n",
    "}\n",
    "```\n",
    "\n",
    "En este ejemplo, si un cliente accede a la ruta `/bad-request`, el servidor NGINX responderá con un código de estado 400 y mostrará el mensaje \"¡Error! La solicitud es incorrecta.\" en la respuesta.\n",
    "\n",
    "Este ejemplo es simple y está destinado a ilustrar el concepto del código de estado 400. En situaciones reales, NGINX puede devolver un código de estado 400 cuando se detectan errores en las solicitudes de los clientes, como solicitudes mal formadas o sintaxis incorrecta en los datos enviados por el cliente."
   ]
  },
  {
   "cell_type": "code",
   "execution_count": 75,
   "metadata": {},
   "outputs": [
    {
     "name": "stdout",
     "output_type": "stream",
     "text": [
      "6ab5afc98743b6eb376dad9aeff7da960d4a2f3db4cb5c9796787b73b6dfe9b5\n"
     ]
    }
   ],
   "source": [
    "!docker run -d --name nginx-container -p 8080:80 -v ./nginx_400.conf:/etc/nginx/conf.d/default.conf nginx"
   ]
  },
  {
   "cell_type": "code",
   "execution_count": 76,
   "metadata": {},
   "outputs": [
    {
     "name": "stdout",
     "output_type": "stream",
     "text": [
      "HTTP/1.1 400 Bad Request\n",
      "\u001b[1mServer\u001b[0m: nginx/1.25.2\n",
      "\u001b[1mDate\u001b[0m: Thu, 24 Aug 2023 13:23:27 GMT\n",
      "\u001b[1mContent-Type\u001b[0m: application/octet-stream\n",
      "\u001b[1mContent-Length\u001b[0m: 36\n",
      "\u001b[1mConnection\u001b[0m: keep-alive\n",
      "\n",
      "¡Error! La solicitud es incorrecta."
     ]
    }
   ],
   "source": [
    "!curl -i http://localhost:8080/"
   ]
  },
  {
   "cell_type": "code",
   "execution_count": 74,
   "metadata": {},
   "outputs": [
    {
     "name": "stdout",
     "output_type": "stream",
     "text": [
      "nginx-container\n",
      "nginx-container\n"
     ]
    }
   ],
   "source": [
    "!docker stop nginx-container\n",
    "!docker rm nginx-container"
   ]
  },
  {
   "cell_type": "code",
   "execution_count": null,
   "metadata": {},
   "outputs": [],
   "source": []
  }
 ],
 "metadata": {
  "kernelspec": {
   "display_name": "Python 2",
   "language": "python",
   "name": "python2"
  },
  "language_info": {
   "codemirror_mode": {
    "name": "ipython",
    "version": 2
   },
   "file_extension": ".py",
   "mimetype": "text/x-python",
   "name": "python",
   "nbconvert_exporter": "python",
   "pygments_lexer": "ipython2",
   "version": "2.7.18"
  }
 },
 "nbformat": 4,
 "nbformat_minor": 2
}
