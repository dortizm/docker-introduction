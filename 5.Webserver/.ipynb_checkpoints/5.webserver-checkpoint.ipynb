{
 "cells": [
  {
   "cell_type": "markdown",
   "metadata": {},
   "source": [
    "# Web Server\n",
    "\n",
    "## Introducción"
   ]
  },
  {
   "cell_type": "markdown",
   "metadata": {},
   "source": [
    "Un servidor web (web server en inglés) es un software diseñado para recibir, procesar y responder a solicitudes de clientes a través de protocolos web, generalmente utilizando el protocolo HTTP (Hypertext Transfer Protocol) o su versión segura HTTPS. Su función principal es proporcionar contenido web, como páginas HTML, imágenes, archivos de estilo, scripts y otros recursos, a los navegadores web o aplicaciones cliente que los solicitan.\n",
    "\n",
    "Los servidores web son componentes esenciales de la infraestructura de internet y son responsables de servir el contenido que vemos y consumimos en línea. Cuando ingresas una URL en tu navegador, este envía una solicitud al servidor web correspondiente. El servidor web procesa esa solicitud, recupera los archivos y recursos solicitados y los envía de vuelta al navegador para que se muestren correctamente en la página web.\n",
    "\n",
    "Ejemplos populares de servidores web incluyen el servidor Apache HTTP Server, Nginx, Microsoft Internet Information Services (IIS) y LiteSpeed Web Server. Cada uno de estos servidores web tiene sus propias características, configuraciones y ventajas, pero todos cumplen la función básica de servir contenido web a los usuarios finales."
   ]
  },
  {
   "cell_type": "markdown",
   "metadata": {},
   "source": [
    "![https://www.linkedin.com/pulse/top-10-container-orchestration-tools-sandeep-kumar-patel/](images/http.png) "
   ]
  },
  {
   "cell_type": "code",
   "execution_count": null,
   "metadata": {},
   "outputs": [],
   "source": []
  }
 ],
 "metadata": {
  "kernelspec": {
   "display_name": "Python 2",
   "language": "python",
   "name": "python2"
  },
  "language_info": {
   "codemirror_mode": {
    "name": "ipython",
    "version": 2
   },
   "file_extension": ".py",
   "mimetype": "text/x-python",
   "name": "python",
   "nbconvert_exporter": "python",
   "pygments_lexer": "ipython2",
   "version": "2.7.18"
  }
 },
 "nbformat": 4,
 "nbformat_minor": 2
}
