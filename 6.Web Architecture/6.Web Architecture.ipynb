{
 "cells": [
  {
   "cell_type": "markdown",
   "metadata": {},
   "source": [
    "# Web Server\n",
    "\n",
    "## Introducción\n",
    "\n",
    "La arquitectura web se refiere a la estructura y el diseño de los componentes que forman una aplicación o sitio web. Implica tomar decisiones sobre cómo organizar y distribuir las diferentes partes de una aplicación para lograr un rendimiento eficiente, escalabilidad, mantenibilidad y seguridad. A continuación, se describen algunos de los conceptos clave en la arquitectura web:\n",
    "\n",
    "1. **Cliente-Servidor:** La arquitectura web típicamente sigue el modelo cliente-servidor. Los clientes, como navegadores web, envían solicitudes a servidores web, que procesan estas solicitudes y devuelven las respuestas apropiadas. Esta separación permite la escalabilidad y el desacoplamiento de la lógica del cliente y el servidor.\n",
    "\n",
    "2. **Capas:** Las aplicaciones web a menudo se dividen en capas para separar las responsabilidades. La arquitectura de tres capas es común y se compone de la capa de presentación (front-end), la capa de lógica de negocio y la capa de almacenamiento de datos (back-end). Esto facilita la gestión y el mantenimiento.\n",
    "\n",
    "3. **Monolito vs. Microservicios:** En un enfoque de monolito, todas las funciones de la aplicación residen en un solo código base. En la arquitectura de microservicios, las funciones se descomponen en servicios independientes y escalables que se ejecutan en contenedores separados. Esto permite un desarrollo y despliegue más ágil.\n",
    "\n",
    "4. **APIs:** Las interfaces de programación de aplicaciones (APIs) permiten que diferentes componentes de una aplicación se comuniquen entre sí y con servicios externos. Esto fomenta la reutilización y la interoperabilidad.\n",
    "\n",
    "5. **Balanceo de Carga:** Distribuir el tráfico entre varios servidores para evitar la sobrecarga y mejorar el rendimiento se logra mediante el balanceo de carga. Puede realizarse a nivel de DNS, a nivel de red o a nivel de aplicación.\n",
    "\n",
    "6. **Caché:** El almacenamiento en caché permite almacenar temporalmente datos que se acceden con frecuencia para reducir la carga en los servidores y mejorar la velocidad de acceso.\n",
    "\n",
    "7. **Seguridad:** La seguridad es fundamental. Las arquitecturas web deben incluir medidas de protección contra ataques como inyecciones SQL, ataques de denegación de servicio (DDoS) y más.\n",
    "\n",
    "8. **Escalabilidad:** Una arquitectura web debe ser escalable para manejar picos de tráfico y crecimiento futuro. Puede lograrse mediante la adición de más recursos o adoptando enfoques como la nube y la virtualización.\n",
    "\n",
    "9. **Contenedores y Orquestación:** La virtualización a nivel de sistema operativo, como Docker, permite empaquetar aplicaciones y sus dependencias en contenedores. La orquestación, como Kubernetes, simplifica la administración y escalabilidad de contenedores.\n",
    "\n",
    "10. **Desarrollo Front-End y Back-End:** La separación entre el desarrollo front-end (la interfaz visible para los usuarios) y back-end (la lógica y el almacenamiento de datos) permite especialización y agiliza el desarrollo.\n",
    "\n",
    "En resumen, la arquitectura web es una consideración crítica al diseñar aplicaciones y sitios web. Implica tomar decisiones sobre cómo organizar y conectar los componentes para lograr un rendimiento, escalabilidad y mantenibilidad óptimos.\n",
    "\n",
    "## Ejemplo docker-compose lampp"
   ]
  },
  {
   "cell_type": "markdown",
   "metadata": {},
   "source": [
    "El stack LAMPP (Linux, Apache, MySQL, PHP, Perl) se utiliza comúnmente para desarrollar y alojar aplicaciones web. Aquí tienes un ejemplo básico de cómo crear un archivo `docker-compose.yml` para configurar un entorno LAMPP utilizando contenedores Docker para cada uno de los componentes.\n",
    "\n",
    "**Paso 1: Instalación de Docker y Docker Compose**\n",
    "\n",
    "Si aún no tienes Docker y Docker Compose instalados en tu sistema, puedes seguir las instrucciones de la [documentación oficial de Docker](https://docs.docker.com/get-docker/) para instalarlos.\n",
    "\n",
    "**Paso 2: Creación del Archivo `docker-compose.yml`**\n",
    "\n",
    "Crea un archivo llamado `docker-compose.yml` en un directorio de tu elección y agrega el siguiente contenido:\n",
    "\n",
    "```yaml\n",
    "version: '3'\n",
    "\n",
    "services:\n",
    "  apache:\n",
    "    image: httpd:2.4\n",
    "    ports:\n",
    "      - \"80:80\"\n",
    "    volumes:\n",
    "      - ./web:/usr/local/apache2/htdocs\n",
    "\n",
    "  mysql:\n",
    "    image: mysql:5.7\n",
    "    environment:\n",
    "      MYSQL_ROOT_PASSWORD: root_password\n",
    "      MYSQL_DATABASE: mydb\n",
    "      MYSQL_USER: user\n",
    "      MYSQL_PASSWORD: user_password\n",
    "    ports:\n",
    "      - \"3306:3306\"\n",
    "    volumes:\n",
    "      - ./db_data:/var/lib/mysql\n",
    "\n",
    "  phpmyadmin:\n",
    "    image: phpmyadmin/phpmyadmin\n",
    "    environment:\n",
    "      PMA_HOST: mysql\n",
    "      PMA_PORT: 3306\n",
    "    ports:\n",
    "      - \"8080:80\"\n",
    "```\n",
    "\n",
    "**Paso 3: Directorio de Trabajo**\n",
    "\n",
    "Crea dos carpetas en el mismo directorio donde tienes el archivo `docker-compose.yml`:\n",
    "\n",
    "- `web`: Aquí puedes colocar tus archivos PHP y HTML.\n",
    "- `db_data`: Aquí se almacenarán los datos de la base de datos MySQL.\n",
    "\n",
    "**Paso 4: Ejecución del Comando**\n",
    "\n",
    "En la misma ubicación donde se encuentra tu archivo `docker-compose.yml`, abre una terminal y ejecuta:\n",
    "\n",
    "```bash\n",
    "docker-compose up -d\n",
    "```\n",
    "\n",
    "Esto construirá las imágenes y ejecutará los contenedores definidos en el archivo `docker-compose.yml`.\n",
    "\n",
    "**Paso 5: Acceso a los Componentes**\n",
    "\n",
    "- Apache: Accede a tus archivos web en el navegador usando `http://localhost`.\n",
    "- MySQL: Puedes acceder a la base de datos utilizando herramientas como MySQL Workbench con las credenciales proporcionadas en el archivo `docker-compose.yml`.\n",
    "- PHPMyAdmin: Accede a la interfaz de PHPMyAdmin en `http://localhost:8080` utilizando las credenciales de MySQL.\n",
    "\n",
    "Recuerda que este es solo un ejemplo básico y que debes considerar aspectos de seguridad y configuración en un entorno de producción."
   ]
  },
  {
   "cell_type": "code",
   "execution_count": 4,
   "metadata": {},
   "outputs": [
    {
     "name": "stdout",
     "output_type": "stream",
     "text": [
      "\u001b[1A\u001b[1B\u001b[0G\u001b[?25l[+] Running 0/0\n",
      " ⠿ Container 6webarchitecture-phpmyadmin-1  Starting                       \u001b[34m0.1s \u001b[0m\n",
      " ⠿ Container 6webarchitecture-apache-1      Starting                       \u001b[34m0.1s \u001b[0m\n",
      " ⠿ Container 6webarchitecture-mysql-1       Starting                       \u001b[34m0.1s \u001b[0m\n",
      "\u001b[?25h\u001b[1A\u001b[1A\u001b[1A\u001b[1A\u001b[0G\u001b[?25l[+] Running 0/3\n",
      " ⠿ Container 6webarchitecture-phpmyadmin-1  Starting                       \u001b[34m0.2s \u001b[0m\n",
      " ⠿ Container 6webarchitecture-apache-1      Starting                       \u001b[34m0.2s \u001b[0m\n",
      " ⠿ Container 6webarchitecture-mysql-1       Starting                       \u001b[34m0.2s \u001b[0m\n",
      "\u001b[?25h\u001b[1A\u001b[1A\u001b[1A\u001b[1A\u001b[0G\u001b[?25l[+] Running 1/3\n",
      " ⠿ Container 6webarchitecture-phpmyadmin-1  Starting                       \u001b[34m0.3s \u001b[0m\n",
      " ⠿ Container 6webarchitecture-apache-1      Starting                       \u001b[34m0.3s \u001b[0m\n",
      " \u001b[32m✔\u001b[0m Container 6webarchitecture-mysql-1       \u001b[32mStarted\u001b[0m                        \u001b[34m0.3s \u001b[0m\n",
      "\u001b[?25h\u001b[1A\u001b[1A\u001b[1A\u001b[1A\u001b[0G\u001b[?25l\u001b[34m[+] Running 3/3\u001b[0m\n",
      " \u001b[32m✔\u001b[0m Container 6webarchitecture-phpmyadmin-1  \u001b[32mStarted\u001b[0m                        \u001b[34m0.4s \u001b[0m\n",
      " \u001b[32m✔\u001b[0m Container 6webarchitecture-apache-1      \u001b[32mStarted\u001b[0m                        \u001b[34m0.3s \u001b[0m\n",
      " \u001b[32m✔\u001b[0m Container 6webarchitecture-mysql-1       \u001b[32mStarted\u001b[0m                        \u001b[34m0.3s \u001b[0m\n",
      "\u001b[?25h"
     ]
    }
   ],
   "source": [
    "!docker-compose up -d"
   ]
  },
  {
   "cell_type": "markdown",
   "metadata": {},
   "source": [
    "Ingrese a la URL http://localhost:8080/"
   ]
  },
  {
   "cell_type": "code",
   "execution_count": null,
   "metadata": {},
   "outputs": [],
   "source": [
    "!docker-compose stop"
   ]
  }
 ],
 "metadata": {
  "kernelspec": {
   "display_name": "Python 2",
   "language": "python",
   "name": "python2"
  },
  "language_info": {
   "codemirror_mode": {
    "name": "ipython",
    "version": 2
   },
   "file_extension": ".py",
   "mimetype": "text/x-python",
   "name": "python",
   "nbconvert_exporter": "python",
   "pygments_lexer": "ipython2",
   "version": "2.7.18"
  }
 },
 "nbformat": 4,
 "nbformat_minor": 2
}
